{
 "cells": [
  {
   "cell_type": "code",
   "execution_count": 116,
   "id": "e98c7526",
   "metadata": {
    "ExecuteTime": {
     "end_time": "2021-05-24T20:11:56.943275Z",
     "start_time": "2021-05-24T20:11:56.864502Z"
    }
   },
   "outputs": [],
   "source": [
    "from selenium import webdriver\n",
    "\n",
    "from selenium.webdriver.common.by import By\n",
    "from selenium.webdriver.support.ui import WebDriverWait\n",
    "from selenium.webdriver.support import expected_conditions as EC\n",
    "from selenium.common.exceptions import NoSuchElementException, NoSuchAttributeException\n",
    "from HotelCrawling.spiders.utils import get_element_by_selector\n",
    "\n",
    "import time"
   ]
  },
  {
   "cell_type": "code",
   "execution_count": 117,
   "id": "ac3be6c4",
   "metadata": {
    "ExecuteTime": {
     "end_time": "2021-05-24T20:18:36.771358Z",
     "start_time": "2021-05-24T20:18:36.752089Z"
    }
   },
   "outputs": [],
   "source": [
    "driver = webdriver.Chrome('/home/long/CodeWorkspace/hotel_crawling/chromedriver')\n",
    "driver.get('https://www.tripadvisor.com.vn/Hotels-g293925-Ho_Chi_Minh_City-Hotels.html')"
   ]
  },
  {
   "cell_type": "code",
   "execution_count": 119,
   "id": "1911d8e7-288e-42a5-b109-902da4abf1ae",
   "metadata": {},
   "outputs": [
    {
     "data": {
      "text/plain": [
       "32"
      ]
     },
     "execution_count": 119,
     "metadata": {},
     "output_type": "execute_result"
    }
   ],
   "source": [
    "x = get_element_by_selector(driver, 'div.listing.collapsed', True, 'e')\n",
    "len(x)"
   ]
  },
  {
   "cell_type": "code",
   "execution_count": 55,
   "id": "0c5c83cb",
   "metadata": {
    "ExecuteTime": {
     "end_time": "2021-05-23T20:21:12.158580Z",
     "start_time": "2021-05-23T20:21:12.100405Z"
    }
   },
   "outputs": [],
   "source": [
    "link = 'https://www.agoda.com/vi-vn/quang-trung-hotel/hotel/ho-chi-minh-city-vn.html?finalPriceView=1&isShowMobileAppPrice=false&cid=-1&numberOfBedrooms=&familyMode=false&adults=1&children=0&rooms=1&maxRooms=0&checkIn=2021-06-1&isCalendarCallout=false&childAges=&numberOfGuest=0&missingChildAges=false&travellerType=0&showReviewSubmissionEntry=false&currencyCode=VND&isFreeOccSearch=false&los=1&searchrequestid=e1e449a9-b73d-4ca4-9a40-02ea59be7da4'\n",
    "driver.execute_script(f'window.open(\"{link}\",\"_blank\");')"
   ]
  },
  {
   "cell_type": "code",
   "execution_count": 113,
   "id": "c7160a1c",
   "metadata": {
    "ExecuteTime": {
     "end_time": "2021-05-23T22:20:45.224254Z",
     "start_time": "2021-05-23T22:20:45.196046Z"
    }
   },
   "outputs": [
    {
     "ename": "KeyboardInterrupt",
     "evalue": "",
     "output_type": "error",
     "traceback": [
      "\u001b[0;31m---------------------------------------------------------------------------\u001b[0m",
      "\u001b[0;31mKeyboardInterrupt\u001b[0m                         Traceback (most recent call last)",
      "\u001b[0;32m<ipython-input-113-3289a7a5ec82>\u001b[0m in \u001b[0;36m<module>\u001b[0;34m\u001b[0m\n\u001b[1;32m      1\u001b[0m \u001b[0mnext_link\u001b[0m \u001b[0;34m=\u001b[0m \u001b[0mget_element_by_selector\u001b[0m\u001b[0;34m(\u001b[0m\u001b[0mdriver\u001b[0m\u001b[0;34m,\u001b[0m \u001b[0;34m'a.nav.next.ui_button.primary'\u001b[0m\u001b[0;34m,\u001b[0m \u001b[0;32mFalse\u001b[0m\u001b[0;34m,\u001b[0m \u001b[0;34m'href'\u001b[0m\u001b[0;34m)\u001b[0m\u001b[0;34m\u001b[0m\u001b[0;34m\u001b[0m\u001b[0m\n\u001b[1;32m      2\u001b[0m \u001b[0;32mwhile\u001b[0m \u001b[0mnext_link\u001b[0m\u001b[0;34m:\u001b[0m\u001b[0;34m\u001b[0m\u001b[0;34m\u001b[0m\u001b[0m\n\u001b[0;32m----> 3\u001b[0;31m     \u001b[0mdriver\u001b[0m\u001b[0;34m.\u001b[0m\u001b[0mget\u001b[0m\u001b[0;34m(\u001b[0m\u001b[0mnext_link\u001b[0m\u001b[0;34m)\u001b[0m\u001b[0;34m\u001b[0m\u001b[0;34m\u001b[0m\u001b[0m\n\u001b[0m\u001b[1;32m      4\u001b[0m     \u001b[0mnext_link\u001b[0m \u001b[0;34m=\u001b[0m \u001b[0mget_element_by_selector\u001b[0m\u001b[0;34m(\u001b[0m\u001b[0mdriver\u001b[0m\u001b[0;34m,\u001b[0m \u001b[0;34m'a.nav.next.ui_button.primary'\u001b[0m\u001b[0;34m,\u001b[0m \u001b[0;32mFalse\u001b[0m\u001b[0;34m,\u001b[0m \u001b[0;34m'href'\u001b[0m\u001b[0;34m)\u001b[0m\u001b[0;34m\u001b[0m\u001b[0;34m\u001b[0m\u001b[0m\n",
      "\u001b[0;32m~/anaconda3/envs/ds38/lib/python3.8/site-packages/selenium/webdriver/remote/webdriver.py\u001b[0m in \u001b[0;36mget\u001b[0;34m(self, url)\u001b[0m\n\u001b[1;32m    331\u001b[0m         \u001b[0mLoads\u001b[0m \u001b[0ma\u001b[0m \u001b[0mweb\u001b[0m \u001b[0mpage\u001b[0m \u001b[0;32min\u001b[0m \u001b[0mthe\u001b[0m \u001b[0mcurrent\u001b[0m \u001b[0mbrowser\u001b[0m \u001b[0msession\u001b[0m\u001b[0;34m.\u001b[0m\u001b[0;34m\u001b[0m\u001b[0;34m\u001b[0m\u001b[0m\n\u001b[1;32m    332\u001b[0m         \"\"\"\n\u001b[0;32m--> 333\u001b[0;31m         \u001b[0mself\u001b[0m\u001b[0;34m.\u001b[0m\u001b[0mexecute\u001b[0m\u001b[0;34m(\u001b[0m\u001b[0mCommand\u001b[0m\u001b[0;34m.\u001b[0m\u001b[0mGET\u001b[0m\u001b[0;34m,\u001b[0m \u001b[0;34m{\u001b[0m\u001b[0;34m'url'\u001b[0m\u001b[0;34m:\u001b[0m \u001b[0murl\u001b[0m\u001b[0;34m}\u001b[0m\u001b[0;34m)\u001b[0m\u001b[0;34m\u001b[0m\u001b[0;34m\u001b[0m\u001b[0m\n\u001b[0m\u001b[1;32m    334\u001b[0m \u001b[0;34m\u001b[0m\u001b[0m\n\u001b[1;32m    335\u001b[0m     \u001b[0;34m@\u001b[0m\u001b[0mproperty\u001b[0m\u001b[0;34m\u001b[0m\u001b[0;34m\u001b[0m\u001b[0m\n",
      "\u001b[0;32m~/anaconda3/envs/ds38/lib/python3.8/site-packages/selenium/webdriver/remote/webdriver.py\u001b[0m in \u001b[0;36mexecute\u001b[0;34m(self, driver_command, params)\u001b[0m\n\u001b[1;32m    317\u001b[0m \u001b[0;34m\u001b[0m\u001b[0m\n\u001b[1;32m    318\u001b[0m         \u001b[0mparams\u001b[0m \u001b[0;34m=\u001b[0m \u001b[0mself\u001b[0m\u001b[0;34m.\u001b[0m\u001b[0m_wrap_value\u001b[0m\u001b[0;34m(\u001b[0m\u001b[0mparams\u001b[0m\u001b[0;34m)\u001b[0m\u001b[0;34m\u001b[0m\u001b[0;34m\u001b[0m\u001b[0m\n\u001b[0;32m--> 319\u001b[0;31m         \u001b[0mresponse\u001b[0m \u001b[0;34m=\u001b[0m \u001b[0mself\u001b[0m\u001b[0;34m.\u001b[0m\u001b[0mcommand_executor\u001b[0m\u001b[0;34m.\u001b[0m\u001b[0mexecute\u001b[0m\u001b[0;34m(\u001b[0m\u001b[0mdriver_command\u001b[0m\u001b[0;34m,\u001b[0m \u001b[0mparams\u001b[0m\u001b[0;34m)\u001b[0m\u001b[0;34m\u001b[0m\u001b[0;34m\u001b[0m\u001b[0m\n\u001b[0m\u001b[1;32m    320\u001b[0m         \u001b[0;32mif\u001b[0m \u001b[0mresponse\u001b[0m\u001b[0;34m:\u001b[0m\u001b[0;34m\u001b[0m\u001b[0;34m\u001b[0m\u001b[0m\n\u001b[1;32m    321\u001b[0m             \u001b[0mself\u001b[0m\u001b[0;34m.\u001b[0m\u001b[0merror_handler\u001b[0m\u001b[0;34m.\u001b[0m\u001b[0mcheck_response\u001b[0m\u001b[0;34m(\u001b[0m\u001b[0mresponse\u001b[0m\u001b[0;34m)\u001b[0m\u001b[0;34m\u001b[0m\u001b[0;34m\u001b[0m\u001b[0m\n",
      "\u001b[0;32m~/anaconda3/envs/ds38/lib/python3.8/site-packages/selenium/webdriver/remote/remote_connection.py\u001b[0m in \u001b[0;36mexecute\u001b[0;34m(self, command, params)\u001b[0m\n\u001b[1;32m    372\u001b[0m         \u001b[0mdata\u001b[0m \u001b[0;34m=\u001b[0m \u001b[0mutils\u001b[0m\u001b[0;34m.\u001b[0m\u001b[0mdump_json\u001b[0m\u001b[0;34m(\u001b[0m\u001b[0mparams\u001b[0m\u001b[0;34m)\u001b[0m\u001b[0;34m\u001b[0m\u001b[0;34m\u001b[0m\u001b[0m\n\u001b[1;32m    373\u001b[0m         \u001b[0murl\u001b[0m \u001b[0;34m=\u001b[0m \u001b[0;34m'%s%s'\u001b[0m \u001b[0;34m%\u001b[0m \u001b[0;34m(\u001b[0m\u001b[0mself\u001b[0m\u001b[0;34m.\u001b[0m\u001b[0m_url\u001b[0m\u001b[0;34m,\u001b[0m \u001b[0mpath\u001b[0m\u001b[0;34m)\u001b[0m\u001b[0;34m\u001b[0m\u001b[0;34m\u001b[0m\u001b[0m\n\u001b[0;32m--> 374\u001b[0;31m         \u001b[0;32mreturn\u001b[0m \u001b[0mself\u001b[0m\u001b[0;34m.\u001b[0m\u001b[0m_request\u001b[0m\u001b[0;34m(\u001b[0m\u001b[0mcommand_info\u001b[0m\u001b[0;34m[\u001b[0m\u001b[0;36m0\u001b[0m\u001b[0;34m]\u001b[0m\u001b[0;34m,\u001b[0m \u001b[0murl\u001b[0m\u001b[0;34m,\u001b[0m \u001b[0mbody\u001b[0m\u001b[0;34m=\u001b[0m\u001b[0mdata\u001b[0m\u001b[0;34m)\u001b[0m\u001b[0;34m\u001b[0m\u001b[0;34m\u001b[0m\u001b[0m\n\u001b[0m\u001b[1;32m    375\u001b[0m \u001b[0;34m\u001b[0m\u001b[0m\n\u001b[1;32m    376\u001b[0m     \u001b[0;32mdef\u001b[0m \u001b[0m_request\u001b[0m\u001b[0;34m(\u001b[0m\u001b[0mself\u001b[0m\u001b[0;34m,\u001b[0m \u001b[0mmethod\u001b[0m\u001b[0;34m,\u001b[0m \u001b[0murl\u001b[0m\u001b[0;34m,\u001b[0m \u001b[0mbody\u001b[0m\u001b[0;34m=\u001b[0m\u001b[0;32mNone\u001b[0m\u001b[0;34m)\u001b[0m\u001b[0;34m:\u001b[0m\u001b[0;34m\u001b[0m\u001b[0;34m\u001b[0m\u001b[0m\n",
      "\u001b[0;32m~/anaconda3/envs/ds38/lib/python3.8/site-packages/selenium/webdriver/remote/remote_connection.py\u001b[0m in \u001b[0;36m_request\u001b[0;34m(self, method, url, body)\u001b[0m\n\u001b[1;32m    395\u001b[0m \u001b[0;34m\u001b[0m\u001b[0m\n\u001b[1;32m    396\u001b[0m         \u001b[0;32mif\u001b[0m \u001b[0mself\u001b[0m\u001b[0;34m.\u001b[0m\u001b[0mkeep_alive\u001b[0m\u001b[0;34m:\u001b[0m\u001b[0;34m\u001b[0m\u001b[0;34m\u001b[0m\u001b[0m\n\u001b[0;32m--> 397\u001b[0;31m             \u001b[0mresp\u001b[0m \u001b[0;34m=\u001b[0m \u001b[0mself\u001b[0m\u001b[0;34m.\u001b[0m\u001b[0m_conn\u001b[0m\u001b[0;34m.\u001b[0m\u001b[0mrequest\u001b[0m\u001b[0;34m(\u001b[0m\u001b[0mmethod\u001b[0m\u001b[0;34m,\u001b[0m \u001b[0murl\u001b[0m\u001b[0;34m,\u001b[0m \u001b[0mbody\u001b[0m\u001b[0;34m=\u001b[0m\u001b[0mbody\u001b[0m\u001b[0;34m,\u001b[0m \u001b[0mheaders\u001b[0m\u001b[0;34m=\u001b[0m\u001b[0mheaders\u001b[0m\u001b[0;34m)\u001b[0m\u001b[0;34m\u001b[0m\u001b[0;34m\u001b[0m\u001b[0m\n\u001b[0m\u001b[1;32m    398\u001b[0m \u001b[0;34m\u001b[0m\u001b[0m\n\u001b[1;32m    399\u001b[0m             \u001b[0mstatuscode\u001b[0m \u001b[0;34m=\u001b[0m \u001b[0mresp\u001b[0m\u001b[0;34m.\u001b[0m\u001b[0mstatus\u001b[0m\u001b[0;34m\u001b[0m\u001b[0;34m\u001b[0m\u001b[0m\n",
      "\u001b[0;32m~/anaconda3/envs/ds38/lib/python3.8/site-packages/urllib3/request.py\u001b[0m in \u001b[0;36mrequest\u001b[0;34m(self, method, url, fields, headers, **urlopen_kw)\u001b[0m\n\u001b[1;32m     76\u001b[0m             )\n\u001b[1;32m     77\u001b[0m         \u001b[0;32melse\u001b[0m\u001b[0;34m:\u001b[0m\u001b[0;34m\u001b[0m\u001b[0;34m\u001b[0m\u001b[0m\n\u001b[0;32m---> 78\u001b[0;31m             return self.request_encode_body(\n\u001b[0m\u001b[1;32m     79\u001b[0m                 \u001b[0mmethod\u001b[0m\u001b[0;34m,\u001b[0m \u001b[0murl\u001b[0m\u001b[0;34m,\u001b[0m \u001b[0mfields\u001b[0m\u001b[0;34m=\u001b[0m\u001b[0mfields\u001b[0m\u001b[0;34m,\u001b[0m \u001b[0mheaders\u001b[0m\u001b[0;34m=\u001b[0m\u001b[0mheaders\u001b[0m\u001b[0;34m,\u001b[0m \u001b[0;34m**\u001b[0m\u001b[0murlopen_kw\u001b[0m\u001b[0;34m\u001b[0m\u001b[0;34m\u001b[0m\u001b[0m\n\u001b[1;32m     80\u001b[0m             )\n",
      "\u001b[0;32m~/anaconda3/envs/ds38/lib/python3.8/site-packages/urllib3/request.py\u001b[0m in \u001b[0;36mrequest_encode_body\u001b[0;34m(self, method, url, fields, headers, encode_multipart, multipart_boundary, **urlopen_kw)\u001b[0m\n\u001b[1;32m    168\u001b[0m         \u001b[0mextra_kw\u001b[0m\u001b[0;34m.\u001b[0m\u001b[0mupdate\u001b[0m\u001b[0;34m(\u001b[0m\u001b[0murlopen_kw\u001b[0m\u001b[0;34m)\u001b[0m\u001b[0;34m\u001b[0m\u001b[0;34m\u001b[0m\u001b[0m\n\u001b[1;32m    169\u001b[0m \u001b[0;34m\u001b[0m\u001b[0m\n\u001b[0;32m--> 170\u001b[0;31m         \u001b[0;32mreturn\u001b[0m \u001b[0mself\u001b[0m\u001b[0;34m.\u001b[0m\u001b[0murlopen\u001b[0m\u001b[0;34m(\u001b[0m\u001b[0mmethod\u001b[0m\u001b[0;34m,\u001b[0m \u001b[0murl\u001b[0m\u001b[0;34m,\u001b[0m \u001b[0;34m**\u001b[0m\u001b[0mextra_kw\u001b[0m\u001b[0;34m)\u001b[0m\u001b[0;34m\u001b[0m\u001b[0;34m\u001b[0m\u001b[0m\n\u001b[0m",
      "\u001b[0;32m~/anaconda3/envs/ds38/lib/python3.8/site-packages/urllib3/poolmanager.py\u001b[0m in \u001b[0;36murlopen\u001b[0;34m(self, method, url, redirect, **kw)\u001b[0m\n\u001b[1;32m    373\u001b[0m             \u001b[0mresponse\u001b[0m \u001b[0;34m=\u001b[0m \u001b[0mconn\u001b[0m\u001b[0;34m.\u001b[0m\u001b[0murlopen\u001b[0m\u001b[0;34m(\u001b[0m\u001b[0mmethod\u001b[0m\u001b[0;34m,\u001b[0m \u001b[0murl\u001b[0m\u001b[0;34m,\u001b[0m \u001b[0;34m**\u001b[0m\u001b[0mkw\u001b[0m\u001b[0;34m)\u001b[0m\u001b[0;34m\u001b[0m\u001b[0;34m\u001b[0m\u001b[0m\n\u001b[1;32m    374\u001b[0m         \u001b[0;32melse\u001b[0m\u001b[0;34m:\u001b[0m\u001b[0;34m\u001b[0m\u001b[0;34m\u001b[0m\u001b[0m\n\u001b[0;32m--> 375\u001b[0;31m             \u001b[0mresponse\u001b[0m \u001b[0;34m=\u001b[0m \u001b[0mconn\u001b[0m\u001b[0;34m.\u001b[0m\u001b[0murlopen\u001b[0m\u001b[0;34m(\u001b[0m\u001b[0mmethod\u001b[0m\u001b[0;34m,\u001b[0m \u001b[0mu\u001b[0m\u001b[0;34m.\u001b[0m\u001b[0mrequest_uri\u001b[0m\u001b[0;34m,\u001b[0m \u001b[0;34m**\u001b[0m\u001b[0mkw\u001b[0m\u001b[0;34m)\u001b[0m\u001b[0;34m\u001b[0m\u001b[0;34m\u001b[0m\u001b[0m\n\u001b[0m\u001b[1;32m    376\u001b[0m \u001b[0;34m\u001b[0m\u001b[0m\n\u001b[1;32m    377\u001b[0m         \u001b[0mredirect_location\u001b[0m \u001b[0;34m=\u001b[0m \u001b[0mredirect\u001b[0m \u001b[0;32mand\u001b[0m \u001b[0mresponse\u001b[0m\u001b[0;34m.\u001b[0m\u001b[0mget_redirect_location\u001b[0m\u001b[0;34m(\u001b[0m\u001b[0;34m)\u001b[0m\u001b[0;34m\u001b[0m\u001b[0;34m\u001b[0m\u001b[0m\n",
      "\u001b[0;32m~/anaconda3/envs/ds38/lib/python3.8/site-packages/urllib3/connectionpool.py\u001b[0m in \u001b[0;36murlopen\u001b[0;34m(self, method, url, body, headers, retries, redirect, assert_same_host, timeout, pool_timeout, release_conn, chunked, body_pos, **response_kw)\u001b[0m\n\u001b[1;32m    697\u001b[0m \u001b[0;34m\u001b[0m\u001b[0m\n\u001b[1;32m    698\u001b[0m             \u001b[0;31m# Make the request on the httplib connection object.\u001b[0m\u001b[0;34m\u001b[0m\u001b[0;34m\u001b[0m\u001b[0;34m\u001b[0m\u001b[0m\n\u001b[0;32m--> 699\u001b[0;31m             httplib_response = self._make_request(\n\u001b[0m\u001b[1;32m    700\u001b[0m                 \u001b[0mconn\u001b[0m\u001b[0;34m,\u001b[0m\u001b[0;34m\u001b[0m\u001b[0;34m\u001b[0m\u001b[0m\n\u001b[1;32m    701\u001b[0m                 \u001b[0mmethod\u001b[0m\u001b[0;34m,\u001b[0m\u001b[0;34m\u001b[0m\u001b[0;34m\u001b[0m\u001b[0m\n",
      "\u001b[0;32m~/anaconda3/envs/ds38/lib/python3.8/site-packages/urllib3/connectionpool.py\u001b[0m in \u001b[0;36m_make_request\u001b[0;34m(self, conn, method, url, timeout, chunked, **httplib_request_kw)\u001b[0m\n\u001b[1;32m    443\u001b[0m                     \u001b[0;31m# Python 3 (including for exceptions like SystemExit).\u001b[0m\u001b[0;34m\u001b[0m\u001b[0;34m\u001b[0m\u001b[0;34m\u001b[0m\u001b[0m\n\u001b[1;32m    444\u001b[0m                     \u001b[0;31m# Otherwise it looks like a bug in the code.\u001b[0m\u001b[0;34m\u001b[0m\u001b[0;34m\u001b[0m\u001b[0;34m\u001b[0m\u001b[0m\n\u001b[0;32m--> 445\u001b[0;31m                     \u001b[0msix\u001b[0m\u001b[0;34m.\u001b[0m\u001b[0mraise_from\u001b[0m\u001b[0;34m(\u001b[0m\u001b[0me\u001b[0m\u001b[0;34m,\u001b[0m \u001b[0;32mNone\u001b[0m\u001b[0;34m)\u001b[0m\u001b[0;34m\u001b[0m\u001b[0;34m\u001b[0m\u001b[0m\n\u001b[0m\u001b[1;32m    446\u001b[0m         \u001b[0;32mexcept\u001b[0m \u001b[0;34m(\u001b[0m\u001b[0mSocketTimeout\u001b[0m\u001b[0;34m,\u001b[0m \u001b[0mBaseSSLError\u001b[0m\u001b[0;34m,\u001b[0m \u001b[0mSocketError\u001b[0m\u001b[0;34m)\u001b[0m \u001b[0;32mas\u001b[0m \u001b[0me\u001b[0m\u001b[0;34m:\u001b[0m\u001b[0;34m\u001b[0m\u001b[0;34m\u001b[0m\u001b[0m\n\u001b[1;32m    447\u001b[0m             \u001b[0mself\u001b[0m\u001b[0;34m.\u001b[0m\u001b[0m_raise_timeout\u001b[0m\u001b[0;34m(\u001b[0m\u001b[0merr\u001b[0m\u001b[0;34m=\u001b[0m\u001b[0me\u001b[0m\u001b[0;34m,\u001b[0m \u001b[0murl\u001b[0m\u001b[0;34m=\u001b[0m\u001b[0murl\u001b[0m\u001b[0;34m,\u001b[0m \u001b[0mtimeout_value\u001b[0m\u001b[0;34m=\u001b[0m\u001b[0mread_timeout\u001b[0m\u001b[0;34m)\u001b[0m\u001b[0;34m\u001b[0m\u001b[0;34m\u001b[0m\u001b[0m\n",
      "\u001b[0;32m~/anaconda3/envs/ds38/lib/python3.8/site-packages/urllib3/packages/six.py\u001b[0m in \u001b[0;36mraise_from\u001b[0;34m(value, from_value)\u001b[0m\n",
      "\u001b[0;32m~/anaconda3/envs/ds38/lib/python3.8/site-packages/urllib3/connectionpool.py\u001b[0m in \u001b[0;36m_make_request\u001b[0;34m(self, conn, method, url, timeout, chunked, **httplib_request_kw)\u001b[0m\n\u001b[1;32m    438\u001b[0m                 \u001b[0;31m# Python 3\u001b[0m\u001b[0;34m\u001b[0m\u001b[0;34m\u001b[0m\u001b[0;34m\u001b[0m\u001b[0m\n\u001b[1;32m    439\u001b[0m                 \u001b[0;32mtry\u001b[0m\u001b[0;34m:\u001b[0m\u001b[0;34m\u001b[0m\u001b[0;34m\u001b[0m\u001b[0m\n\u001b[0;32m--> 440\u001b[0;31m                     \u001b[0mhttplib_response\u001b[0m \u001b[0;34m=\u001b[0m \u001b[0mconn\u001b[0m\u001b[0;34m.\u001b[0m\u001b[0mgetresponse\u001b[0m\u001b[0;34m(\u001b[0m\u001b[0;34m)\u001b[0m\u001b[0;34m\u001b[0m\u001b[0;34m\u001b[0m\u001b[0m\n\u001b[0m\u001b[1;32m    441\u001b[0m                 \u001b[0;32mexcept\u001b[0m \u001b[0mBaseException\u001b[0m \u001b[0;32mas\u001b[0m \u001b[0me\u001b[0m\u001b[0;34m:\u001b[0m\u001b[0;34m\u001b[0m\u001b[0;34m\u001b[0m\u001b[0m\n\u001b[1;32m    442\u001b[0m                     \u001b[0;31m# Remove the TypeError from the exception chain in\u001b[0m\u001b[0;34m\u001b[0m\u001b[0;34m\u001b[0m\u001b[0;34m\u001b[0m\u001b[0m\n",
      "\u001b[0;32m~/anaconda3/envs/ds38/lib/python3.8/http/client.py\u001b[0m in \u001b[0;36mgetresponse\u001b[0;34m(self)\u001b[0m\n\u001b[1;32m   1345\u001b[0m         \u001b[0;32mtry\u001b[0m\u001b[0;34m:\u001b[0m\u001b[0;34m\u001b[0m\u001b[0;34m\u001b[0m\u001b[0m\n\u001b[1;32m   1346\u001b[0m             \u001b[0;32mtry\u001b[0m\u001b[0;34m:\u001b[0m\u001b[0;34m\u001b[0m\u001b[0;34m\u001b[0m\u001b[0m\n\u001b[0;32m-> 1347\u001b[0;31m                 \u001b[0mresponse\u001b[0m\u001b[0;34m.\u001b[0m\u001b[0mbegin\u001b[0m\u001b[0;34m(\u001b[0m\u001b[0;34m)\u001b[0m\u001b[0;34m\u001b[0m\u001b[0;34m\u001b[0m\u001b[0m\n\u001b[0m\u001b[1;32m   1348\u001b[0m             \u001b[0;32mexcept\u001b[0m \u001b[0mConnectionError\u001b[0m\u001b[0;34m:\u001b[0m\u001b[0;34m\u001b[0m\u001b[0;34m\u001b[0m\u001b[0m\n\u001b[1;32m   1349\u001b[0m                 \u001b[0mself\u001b[0m\u001b[0;34m.\u001b[0m\u001b[0mclose\u001b[0m\u001b[0;34m(\u001b[0m\u001b[0;34m)\u001b[0m\u001b[0;34m\u001b[0m\u001b[0;34m\u001b[0m\u001b[0m\n",
      "\u001b[0;32m~/anaconda3/envs/ds38/lib/python3.8/http/client.py\u001b[0m in \u001b[0;36mbegin\u001b[0;34m(self)\u001b[0m\n\u001b[1;32m    305\u001b[0m         \u001b[0;31m# read until we get a non-100 response\u001b[0m\u001b[0;34m\u001b[0m\u001b[0;34m\u001b[0m\u001b[0;34m\u001b[0m\u001b[0m\n\u001b[1;32m    306\u001b[0m         \u001b[0;32mwhile\u001b[0m \u001b[0;32mTrue\u001b[0m\u001b[0;34m:\u001b[0m\u001b[0;34m\u001b[0m\u001b[0;34m\u001b[0m\u001b[0m\n\u001b[0;32m--> 307\u001b[0;31m             \u001b[0mversion\u001b[0m\u001b[0;34m,\u001b[0m \u001b[0mstatus\u001b[0m\u001b[0;34m,\u001b[0m \u001b[0mreason\u001b[0m \u001b[0;34m=\u001b[0m \u001b[0mself\u001b[0m\u001b[0;34m.\u001b[0m\u001b[0m_read_status\u001b[0m\u001b[0;34m(\u001b[0m\u001b[0;34m)\u001b[0m\u001b[0;34m\u001b[0m\u001b[0;34m\u001b[0m\u001b[0m\n\u001b[0m\u001b[1;32m    308\u001b[0m             \u001b[0;32mif\u001b[0m \u001b[0mstatus\u001b[0m \u001b[0;34m!=\u001b[0m \u001b[0mCONTINUE\u001b[0m\u001b[0;34m:\u001b[0m\u001b[0;34m\u001b[0m\u001b[0;34m\u001b[0m\u001b[0m\n\u001b[1;32m    309\u001b[0m                 \u001b[0;32mbreak\u001b[0m\u001b[0;34m\u001b[0m\u001b[0;34m\u001b[0m\u001b[0m\n",
      "\u001b[0;32m~/anaconda3/envs/ds38/lib/python3.8/http/client.py\u001b[0m in \u001b[0;36m_read_status\u001b[0;34m(self)\u001b[0m\n\u001b[1;32m    266\u001b[0m \u001b[0;34m\u001b[0m\u001b[0m\n\u001b[1;32m    267\u001b[0m     \u001b[0;32mdef\u001b[0m \u001b[0m_read_status\u001b[0m\u001b[0;34m(\u001b[0m\u001b[0mself\u001b[0m\u001b[0;34m)\u001b[0m\u001b[0;34m:\u001b[0m\u001b[0;34m\u001b[0m\u001b[0;34m\u001b[0m\u001b[0m\n\u001b[0;32m--> 268\u001b[0;31m         \u001b[0mline\u001b[0m \u001b[0;34m=\u001b[0m \u001b[0mstr\u001b[0m\u001b[0;34m(\u001b[0m\u001b[0mself\u001b[0m\u001b[0;34m.\u001b[0m\u001b[0mfp\u001b[0m\u001b[0;34m.\u001b[0m\u001b[0mreadline\u001b[0m\u001b[0;34m(\u001b[0m\u001b[0m_MAXLINE\u001b[0m \u001b[0;34m+\u001b[0m \u001b[0;36m1\u001b[0m\u001b[0;34m)\u001b[0m\u001b[0;34m,\u001b[0m \u001b[0;34m\"iso-8859-1\"\u001b[0m\u001b[0;34m)\u001b[0m\u001b[0;34m\u001b[0m\u001b[0;34m\u001b[0m\u001b[0m\n\u001b[0m\u001b[1;32m    269\u001b[0m         \u001b[0;32mif\u001b[0m \u001b[0mlen\u001b[0m\u001b[0;34m(\u001b[0m\u001b[0mline\u001b[0m\u001b[0;34m)\u001b[0m \u001b[0;34m>\u001b[0m \u001b[0m_MAXLINE\u001b[0m\u001b[0;34m:\u001b[0m\u001b[0;34m\u001b[0m\u001b[0;34m\u001b[0m\u001b[0m\n\u001b[1;32m    270\u001b[0m             \u001b[0;32mraise\u001b[0m \u001b[0mLineTooLong\u001b[0m\u001b[0;34m(\u001b[0m\u001b[0;34m\"status line\"\u001b[0m\u001b[0;34m)\u001b[0m\u001b[0;34m\u001b[0m\u001b[0;34m\u001b[0m\u001b[0m\n",
      "\u001b[0;32m~/anaconda3/envs/ds38/lib/python3.8/socket.py\u001b[0m in \u001b[0;36mreadinto\u001b[0;34m(self, b)\u001b[0m\n\u001b[1;32m    667\u001b[0m         \u001b[0;32mwhile\u001b[0m \u001b[0;32mTrue\u001b[0m\u001b[0;34m:\u001b[0m\u001b[0;34m\u001b[0m\u001b[0;34m\u001b[0m\u001b[0m\n\u001b[1;32m    668\u001b[0m             \u001b[0;32mtry\u001b[0m\u001b[0;34m:\u001b[0m\u001b[0;34m\u001b[0m\u001b[0;34m\u001b[0m\u001b[0m\n\u001b[0;32m--> 669\u001b[0;31m                 \u001b[0;32mreturn\u001b[0m \u001b[0mself\u001b[0m\u001b[0;34m.\u001b[0m\u001b[0m_sock\u001b[0m\u001b[0;34m.\u001b[0m\u001b[0mrecv_into\u001b[0m\u001b[0;34m(\u001b[0m\u001b[0mb\u001b[0m\u001b[0;34m)\u001b[0m\u001b[0;34m\u001b[0m\u001b[0;34m\u001b[0m\u001b[0m\n\u001b[0m\u001b[1;32m    670\u001b[0m             \u001b[0;32mexcept\u001b[0m \u001b[0mtimeout\u001b[0m\u001b[0;34m:\u001b[0m\u001b[0;34m\u001b[0m\u001b[0;34m\u001b[0m\u001b[0m\n\u001b[1;32m    671\u001b[0m                 \u001b[0mself\u001b[0m\u001b[0;34m.\u001b[0m\u001b[0m_timeout_occurred\u001b[0m \u001b[0;34m=\u001b[0m \u001b[0;32mTrue\u001b[0m\u001b[0;34m\u001b[0m\u001b[0;34m\u001b[0m\u001b[0m\n",
      "\u001b[0;31mKeyboardInterrupt\u001b[0m: "
     ]
    }
   ],
   "source": [
    "next_link = get_element_by_selector(driver, 'a.nav.next.ui_button.primary', False, 'href')\n",
    "while next_link:\n",
    "    driver.get(next_link)\n",
    "    next_link = get_element_by_selector(driver, 'a.nav.next.ui_button.primary', False, 'href')"
   ]
  },
  {
   "cell_type": "code",
   "execution_count": 58,
   "id": "0bc67690",
   "metadata": {
    "ExecuteTime": {
     "end_time": "2021-05-23T20:22:54.459787Z",
     "start_time": "2021-05-23T20:22:54.439053Z"
    }
   },
   "outputs": [],
   "source": [
    "driver.switch_to.window(driver.window_handles[0])"
   ]
  },
  {
   "cell_type": "code",
   "execution_count": 56,
   "id": "c2e133ca",
   "metadata": {
    "ExecuteTime": {
     "end_time": "2021-05-23T20:22:33.232423Z",
     "start_time": "2021-05-23T20:22:33.224451Z"
    }
   },
   "outputs": [],
   "source": [
    "driver.switch_to.window(driver.window_handles[0])"
   ]
  },
  {
   "cell_type": "code",
   "execution_count": 49,
   "id": "0bd8367c",
   "metadata": {
    "ExecuteTime": {
     "end_time": "2021-05-23T20:14:05.472838Z",
     "start_time": "2021-05-23T20:14:05.385555Z"
    }
   },
   "outputs": [],
   "source": [
    "driver.close()"
   ]
  },
  {
   "cell_type": "code",
   "execution_count": 18,
   "id": "077ca8bd",
   "metadata": {
    "ExecuteTime": {
     "end_time": "2021-05-23T19:40:00.625443Z",
     "start_time": "2021-05-23T19:40:00.475872Z"
    }
   },
   "outputs": [
    {
     "name": "stdout",
     "output_type": "stream",
     "text": [
      "Đưa đón sân bay\n",
      "Wi-Fi miễn phí trong tất cả các phòng!\n",
      "Dọn phòng hằng ngày\n",
      "Điều hòa\n",
      "Thang máy\n"
     ]
    }
   ],
   "source": [
    "for element in driver.find_elements_by_css_selector('p.FavFeatures__Text.FavFeatures__Text--small'):\n",
    "    print(element.text)"
   ]
  },
  {
   "cell_type": "code",
   "execution_count": 29,
   "id": "751dd4e4",
   "metadata": {
    "ExecuteTime": {
     "end_time": "2021-05-23T19:58:00.678880Z",
     "start_time": "2021-05-23T19:58:00.624166Z"
    }
   },
   "outputs": [
    {
     "data": {
      "text/plain": [
       "[]"
      ]
     },
     "execution_count": 29,
     "metadata": {},
     "output_type": "execute_result"
    }
   ],
   "source": [
    "[e.text for e in driver.find_elements_by_css_selector('li.poi-item')]"
   ]
  },
  {
   "cell_type": "code",
   "execution_count": 32,
   "id": "e47486e2",
   "metadata": {
    "ExecuteTime": {
     "end_time": "2021-05-23T19:58:31.388142Z",
     "start_time": "2021-05-23T19:58:31.327009Z"
    }
   },
   "outputs": [
    {
     "data": {
      "text/plain": [
       "'425'"
      ]
     },
     "execution_count": 32,
     "metadata": {},
     "output_type": "execute_result"
    }
   ],
   "source": [
    "driver.find_element_by_css_selector('div.review-basedon span.text').text[1:].split()[0]"
   ]
  },
  {
   "cell_type": "code",
   "execution_count": 28,
   "id": "75f7598b",
   "metadata": {
    "ExecuteTime": {
     "end_time": "2021-05-23T19:56:54.079613Z",
     "start_time": "2021-05-23T19:56:53.714517Z"
    }
   },
   "outputs": [
    {
     "data": {
      "text/plain": [
       "['Phòng xinh xắn và rộng, mình thấy rẻ hơn so với giá tiền phải trả, mình đặt phòng view langmark lun.',\n",
       " 'Khách sạn sạch sẽ, gần trung tâm di chuyển tới các địa điểm rất tiện. Nhân viên nói chung và các bảo vệ nói riêng cực kỳ nhiệt tình và thân thiện.',\n",
       " 'Phòng ốc sạch sẽ, gọn gàng Nhân viên thân thiện Vị trí tốt',\n",
       " 'Phòng cách âm kém, kệ treo khăn tắm bị bung, nhân viên đỗ xe hơi quá sát vật cản gây xước xe, dụng cụ bếp còn thiếu.',\n",
       " 'Phòng ốc mới, sạch sẽ thơm tho. Khu quận 2 khá yên tĩnh và an ninh.',\n",
       " 'Phòng rất Dơ, rác để trong hộc tủ rất hôi phải gọi người lên vứt, nhân viên dọn cũng không được sạch sẽ, bếp sờ dến đâu bụi dến đó Bụi phủ kín đầu giường và trên giường có nhiều con bọ và tóc, và vỏ bao cao su, chăn gối mùi rất cũ và ẩm Phòng rất ồn ào đến mức cánh cửa rung lên bởi công trường xunh quanh và quán bar dù đã đổi phòng. Ngày nhận phòng khách sạn sửa máy lạnh và bồn nước nên rất ồn và ko có nước dùng nhưng vẫn nhận khách. Nói chung là quá kinh khủng và cảm thấy bị lừa nên phải trả phòng sớm. Mọi người đừng bao giờ ở một nơi như vậy',\n",
       " 'Mọi thứ đều tốt. Khách sạn chuẩn bị phòng theo yêu cầu đặc biệt của khách',\n",
       " 'Phòng buổi tối hay có tiếng động ồn làm khó ngủ.',\n",
       " 'Phòng thoải mái, nhiều ánh sáng, đầy đủ tiện nghi cơ bản. Mình thích yên tĩnh nên rất phù hợp.',\n",
       " 'Chất lượng và visual phòng rất ổn nhưng cần cải thiện những vấn đề phát sinh sau đợt sửa chữa hiện tại: - Cách âm chưa tốt - Thiết bị nhà tắm bị bung, rớt - Mất nước - Thiếu thiết bị nấu ăn - Wifi yếu - Phòng không có policy và rules để khách xem và làm theo (smoking policy hoặc home rule) Bù lại thì nhân viên support rất nhiệt tình và phòng ở mức độ khá đẹp.',\n",
       " 'Phòng ốc sạch đẹp phong cách hiện đại đầy đủ tiện nghi',\n",
       " 'Sạch sẽ, có dọn phòng hàng ngày, tiện nghi đầy đủ và chất lượng. Đáng giá tiền.',\n",
       " 'yên tĩnh, nhân viên thân thiện, vị trí trung tâm',\n",
       " 'Mình đi công tác một ngày nên đã book phòng ở Mecozy. Khách sạn nằm ở khu trung tâm. Dễ tìm. Thuận tiện di chuyển',\n",
       " 'Khách sạn tuyệt đẹp, thiết kế khách sạn sang trọng, đẹp mắt. Mọi tiện nghi đều thoải mái, đồ dùng chất lượng.',\n",
       " 'Tiện nghi tốt, nhân viên nhiệt tình, giá cả rất ổn. Có dịp chắc chắn sẽ quay lại',\n",
       " 'Nhân viên thân thiện. Ksan sạch sẽ. Yên tĩnh.',\n",
       " 'Sạch sẽ nhân viên thân thiện. Không gian đẹp , phòng tk kiểu cổ điển rất đẹp và ấm cúng',\n",
       " 'Vị trí thuận tiện, giá cả hợp lý, nhân viên take care nhanh chóng và nhiệt tình',\n",
       " 'Chổ ở sạch sẽ, sang trọng. Trong khu ở yên tĩnh không ồn à, bước ra đường thì rất gần các nơi ăn uống']"
      ]
     },
     "execution_count": 28,
     "metadata": {},
     "output_type": "execute_result"
    }
   ],
   "source": [
    "[e.text for e in driver.find_elements_by_css_selector('p.Review-comment-bodyText')]"
   ]
  },
  {
   "cell_type": "code",
   "execution_count": 62,
   "id": "cc8ee5f0",
   "metadata": {
    "ExecuteTime": {
     "end_time": "2021-05-23T22:24:27.159995Z",
     "start_time": "2021-05-23T22:24:27.064954Z"
    }
   },
   "outputs": [],
   "source": [
    "driver.quit()"
   ]
  },
  {
   "cell_type": "code",
   "execution_count": 21,
   "id": "dc7a2f22",
   "metadata": {
    "ExecuteTime": {
     "end_time": "2021-05-23T14:40:09.604352Z",
     "start_time": "2021-05-23T14:39:50.158938Z"
    }
   },
   "outputs": [],
   "source": [
    "def scroll_down_page(driver, speed=100):\n",
    "    current_scroll_position, new_height= 0, 1\n",
    "    while current_scroll_position <= new_height:\n",
    "        current_scroll_position += speed\n",
    "        driver.execute_script(\"window.scrollTo(0, {});\".format(current_scroll_position))\n",
    "        new_height = driver.execute_script(\"return document.body.scrollHeight\")\n",
    "scroll_down_page(driver, 850)"
   ]
  },
  {
   "cell_type": "code",
   "execution_count": 18,
   "id": "34107937",
   "metadata": {
    "ExecuteTime": {
     "end_time": "2021-05-23T14:22:37.212739Z",
     "start_time": "2021-05-23T14:22:27.957497Z"
    }
   },
   "outputs": [
    {
     "name": "stdout",
     "output_type": "stream",
     "text": [
      "98\n",
      "https://www.agoda.com/vi-vn/grand-hotel-saigon/hotel/ho-chi-minh-city-vn.html?finalPriceView=1&isShowMobileAppPrice=false&cid=-1&numberOfBedrooms=&familyMode=false&adults=1&children=0&rooms=1&maxRooms=0&checkIn=2021-06-1&isCalendarCallout=false&childAges=&numberOfGuest=0&missingChildAges=false&travellerType=0&showReviewSubmissionEntry=false&currencyCode=VND&isFreeOccSearch=false&tspTypes=5,16&los=1&searchrequestid=801616be-9b3a-4dfc-91b5-6161559991a1\n",
      "https://www.agoda.com/vi-vn/mia-sai-gon/hotel/ho-chi-minh-city-vn.html?finalPriceView=1&isShowMobileAppPrice=false&cid=-1&numberOfBedrooms=&familyMode=false&adults=1&children=0&rooms=1&maxRooms=0&checkIn=2021-06-1&isCalendarCallout=false&childAges=&numberOfGuest=0&missingChildAges=false&travellerType=0&showReviewSubmissionEntry=false&currencyCode=VND&isFreeOccSearch=false&tspTypes=16&los=1&searchrequestid=801616be-9b3a-4dfc-91b5-6161559991a1\n",
      "https://www.agoda.com/vi-vn/hotel-majestic-saigon/hotel/ho-chi-minh-city-vn.html?finalPriceView=1&isShowMobileAppPrice=false&cid=-1&numberOfBedrooms=&familyMode=false&adults=1&children=0&rooms=1&maxRooms=0&checkIn=2021-06-1&isCalendarCallout=false&childAges=&numberOfGuest=0&missingChildAges=false&travellerType=0&showReviewSubmissionEntry=false&currencyCode=VND&isFreeOccSearch=false&tspTypes=16&los=1&searchrequestid=801616be-9b3a-4dfc-91b5-6161559991a1\n",
      "\n",
      "https://www.agoda.com/vi-vn/vinpearl-luxury-landmark-81/hotel/ho-chi-minh-city-vn.html?finalPriceView=1&isShowMobileAppPrice=false&cid=-1&numberOfBedrooms=&familyMode=false&adults=1&children=0&rooms=1&maxRooms=0&checkIn=2021-06-1&isCalendarCallout=false&childAges=&numberOfGuest=0&missingChildAges=false&travellerType=0&showReviewSubmissionEntry=false&currencyCode=VND&isFreeOccSearch=false&tspTypes=16&los=1&searchrequestid=801616be-9b3a-4dfc-91b5-6161559991a1\n",
      "https://www.agoda.com/vi-vn/rex-hotel-saigon/hotel/ho-chi-minh-city-vn.html?finalPriceView=1&isShowMobileAppPrice=false&cid=-1&numberOfBedrooms=&familyMode=false&adults=1&children=0&rooms=1&maxRooms=0&checkIn=2021-06-1&isCalendarCallout=false&childAges=&numberOfGuest=0&missingChildAges=false&travellerType=0&showReviewSubmissionEntry=false&currencyCode=VND&isFreeOccSearch=false&tspTypes=16&los=1&searchrequestid=801616be-9b3a-4dfc-91b5-6161559991a1\n",
      "https://www.agoda.com/vi-vn/the-myst-dong-khoi/hotel/ho-chi-minh-city-vn.html?finalPriceView=1&isShowMobileAppPrice=false&cid=-1&numberOfBedrooms=&familyMode=false&adults=1&children=0&rooms=1&maxRooms=0&checkIn=2021-06-1&isCalendarCallout=false&childAges=&numberOfGuest=0&missingChildAges=false&travellerType=0&showReviewSubmissionEntry=false&currencyCode=VND&isFreeOccSearch=false&tspTypes=16,8&los=1&searchrequestid=801616be-9b3a-4dfc-91b5-6161559991a1\n",
      "https://www.agoda.com/vi-vn/silverland-sakyo-hotel-spa/hotel/ho-chi-minh-city-vn.html?finalPriceView=1&isShowMobileAppPrice=false&cid=-1&numberOfBedrooms=&familyMode=false&adults=1&children=0&rooms=1&maxRooms=0&checkIn=2021-06-1&isCalendarCallout=false&childAges=&numberOfGuest=0&missingChildAges=false&travellerType=0&showReviewSubmissionEntry=false&currencyCode=VND&isFreeOccSearch=false&tspTypes=16,8&los=1&searchrequestid=801616be-9b3a-4dfc-91b5-6161559991a1\n",
      "https://www.agoda.com/vi-vn/silverland-charner/hotel/ho-chi-minh-city-vn.html?finalPriceView=1&isShowMobileAppPrice=false&cid=-1&numberOfBedrooms=&familyMode=false&adults=1&children=0&rooms=1&maxRooms=0&checkIn=2021-06-1&isCalendarCallout=false&childAges=&numberOfGuest=0&missingChildAges=false&travellerType=0&showReviewSubmissionEntry=false&currencyCode=VND&isFreeOccSearch=false&tspTypes=2,16&los=1&searchrequestid=801616be-9b3a-4dfc-91b5-6161559991a1\n",
      "https://www.agoda.com/vi-vn/lotte-legend-hotel-saigon/hotel/ho-chi-minh-city-vn.html?finalPriceView=1&isShowMobileAppPrice=false&cid=-1&numberOfBedrooms=&familyMode=false&adults=1&children=0&rooms=1&maxRooms=0&checkIn=2021-06-1&isCalendarCallout=false&childAges=&numberOfGuest=0&missingChildAges=false&travellerType=0&showReviewSubmissionEntry=false&currencyCode=VND&isFreeOccSearch=false&tspTypes=7,16,8&los=1&searchrequestid=801616be-9b3a-4dfc-91b5-6161559991a1\n",
      "https://www.agoda.com/vi-vn/muong-thanh-saigon-centre-hotel/hotel/ho-chi-minh-city-vn.html?finalPriceView=1&isShowMobileAppPrice=false&cid=-1&numberOfBedrooms=&familyMode=false&adults=1&children=0&rooms=1&maxRooms=0&checkIn=2021-06-1&isCalendarCallout=false&childAges=&numberOfGuest=0&missingChildAges=false&travellerType=0&showReviewSubmissionEntry=false&currencyCode=VND&isFreeOccSearch=false&tspTypes=16&los=1&searchrequestid=801616be-9b3a-4dfc-91b5-6161559991a1\n",
      "https://www.agoda.com/vi-vn/hotel-des-arts-saigon-mgallery-collection/hotel/ho-chi-minh-city-vn.html?finalPriceView=1&isShowMobileAppPrice=false&cid=-1&numberOfBedrooms=&familyMode=false&adults=1&children=0&rooms=1&maxRooms=0&checkIn=2021-06-1&isCalendarCallout=false&childAges=&numberOfGuest=0&missingChildAges=false&travellerType=0&showReviewSubmissionEntry=false&currencyCode=VND&isFreeOccSearch=false&tspTypes=16&los=1&searchrequestid=801616be-9b3a-4dfc-91b5-6161559991a1\n",
      "https://www.agoda.com/vi-vn/cozrum-homes-the-gallery-residence/hotel/ho-chi-minh-city-vn.html?finalPriceView=1&isShowMobileAppPrice=false&cid=-1&numberOfBedrooms=&familyMode=false&adults=1&children=0&rooms=1&maxRooms=0&checkIn=2021-06-1&isCalendarCallout=false&childAges=&numberOfGuest=0&missingChildAges=false&travellerType=0&showReviewSubmissionEntry=false&currencyCode=VND&isFreeOccSearch=false&tspTypes=9,16,-1&los=1&searchrequestid=801616be-9b3a-4dfc-91b5-6161559991a1\n",
      "\n",
      "https://www.agoda.com/vi-vn/central-palace-hotel/hotel/ho-chi-minh-city-vn.html?finalPriceView=1&isShowMobileAppPrice=false&cid=-1&numberOfBedrooms=&familyMode=false&adults=1&children=0&rooms=1&maxRooms=0&checkIn=2021-06-1&isCalendarCallout=false&childAges=&numberOfGuest=0&missingChildAges=false&travellerType=0&showReviewSubmissionEntry=false&currencyCode=VND&isFreeOccSearch=false&tspTypes=9,16,8,-1&los=1&searchrequestid=801616be-9b3a-4dfc-91b5-6161559991a1\n",
      "https://www.agoda.com/vi-vn/silverland-yen-hotel/hotel/ho-chi-minh-city-vn.html?finalPriceView=1&isShowMobileAppPrice=false&cid=-1&numberOfBedrooms=&familyMode=false&adults=1&children=0&rooms=1&maxRooms=0&checkIn=2021-06-1&isCalendarCallout=false&childAges=&numberOfGuest=0&missingChildAges=false&travellerType=0&showReviewSubmissionEntry=false&currencyCode=VND&isFreeOccSearch=false&tspTypes=2,16,-1&los=1&searchrequestid=801616be-9b3a-4dfc-91b5-6161559991a1\n",
      "https://www.agoda.com/vi-vn/muong-thanh-luxury-saigon-hotel/hotel/ho-chi-minh-city-vn.html?finalPriceView=1&isShowMobileAppPrice=false&cid=-1&numberOfBedrooms=&familyMode=false&adults=1&children=0&rooms=1&maxRooms=0&checkIn=2021-06-1&isCalendarCallout=false&childAges=&numberOfGuest=0&missingChildAges=false&travellerType=0&showReviewSubmissionEntry=false&currencyCode=VND&isFreeOccSearch=false&tspTypes=1,16&los=1&searchrequestid=801616be-9b3a-4dfc-91b5-6161559991a1\n",
      "https://www.agoda.com/vi-vn/pullman-saigon-centre-hotel/hotel/ho-chi-minh-city-vn.html?finalPriceView=1&isShowMobileAppPrice=false&cid=-1&numberOfBedrooms=&familyMode=false&adults=1&children=0&rooms=1&maxRooms=0&checkIn=2021-06-1&isCalendarCallout=false&childAges=&numberOfGuest=0&missingChildAges=false&travellerType=0&showReviewSubmissionEntry=false&currencyCode=VND&isFreeOccSearch=false&tspTypes=9,16&los=1&searchrequestid=801616be-9b3a-4dfc-91b5-6161559991a1\n",
      "https://www.agoda.com/vi-vn/caravelle-saigon-hotel/hotel/ho-chi-minh-city-vn.html?finalPriceView=1&isShowMobileAppPrice=false&cid=-1&numberOfBedrooms=&familyMode=false&adults=1&children=0&rooms=1&maxRooms=0&checkIn=2021-06-1&isCalendarCallout=false&childAges=&numberOfGuest=0&missingChildAges=false&travellerType=0&showReviewSubmissionEntry=false&currencyCode=VND&isFreeOccSearch=false&tspTypes=16&los=1&searchrequestid=801616be-9b3a-4dfc-91b5-6161559991a1\n",
      "https://www.agoda.com/vi-vn/hotel-nikko-saigon/hotel/ho-chi-minh-city-vn.html?finalPriceView=1&isShowMobileAppPrice=false&cid=-1&numberOfBedrooms=&familyMode=false&adults=1&children=0&rooms=1&maxRooms=0&checkIn=2021-06-1&isCalendarCallout=false&childAges=&numberOfGuest=0&missingChildAges=false&travellerType=0&showReviewSubmissionEntry=false&currencyCode=VND&isFreeOccSearch=false&tspTypes=15,8&los=1&searchrequestid=801616be-9b3a-4dfc-91b5-6161559991a1\n",
      "https://www.agoda.com/vi-vn/cozrum-homes-premier-residence-h9393788/hotel/ho-chi-minh-city-vn.html?finalPriceView=1&isShowMobileAppPrice=false&cid=-1&numberOfBedrooms=&familyMode=false&adults=1&children=0&rooms=1&maxRooms=0&checkIn=2021-06-1&isCalendarCallout=false&childAges=&numberOfGuest=0&missingChildAges=false&travellerType=0&showReviewSubmissionEntry=false&currencyCode=VND&isFreeOccSearch=false&tspTypes=17,4,16,-1&los=1&searchrequestid=801616be-9b3a-4dfc-91b5-6161559991a1\n",
      "https://www.agoda.com/vi-vn/edenstar-saigon-hotel-spa/hotel/ho-chi-minh-city-vn.html?finalPriceView=1&isShowMobileAppPrice=false&cid=-1&numberOfBedrooms=&familyMode=false&adults=1&children=0&rooms=1&maxRooms=0&checkIn=2021-06-1&isCalendarCallout=false&childAges=&numberOfGuest=0&missingChildAges=false&travellerType=0&showReviewSubmissionEntry=false&currencyCode=VND&isFreeOccSearch=false&tspTypes=16,8,-1&los=1&searchrequestid=801616be-9b3a-4dfc-91b5-6161559991a1\n",
      "https://www.agoda.com/vi-vn/la-vela-saigon-hotel/hotel/ho-chi-minh-city-vn.html?finalPriceView=1&isShowMobileAppPrice=false&cid=-1&numberOfBedrooms=&familyMode=false&adults=1&children=0&rooms=1&maxRooms=0&checkIn=2021-06-1&isCalendarCallout=false&childAges=&numberOfGuest=0&missingChildAges=false&travellerType=0&showReviewSubmissionEntry=false&currencyCode=VND&isFreeOccSearch=false&tspTypes=16,-1&los=1&searchrequestid=801616be-9b3a-4dfc-91b5-6161559991a1\n",
      "\n",
      "https://www.agoda.com/vi-vn/mecozy-apartel/hotel/ho-chi-minh-city-vn.html?finalPriceView=1&isShowMobileAppPrice=false&cid=-1&numberOfBedrooms=&familyMode=false&adults=1&children=0&rooms=1&maxRooms=0&checkIn=2021-06-1&isCalendarCallout=false&childAges=&numberOfGuest=0&missingChildAges=false&travellerType=0&showReviewSubmissionEntry=false&currencyCode=VND&isFreeOccSearch=false&tspTypes=1,16&los=1&searchrequestid=801616be-9b3a-4dfc-91b5-6161559991a1\n",
      "https://www.agoda.com/vi-vn/the-chill-suites-city-center/hotel/ho-chi-minh-city-vn.html?finalPriceView=1&isShowMobileAppPrice=false&cid=-1&numberOfBedrooms=&familyMode=false&adults=1&children=0&rooms=1&maxRooms=0&checkIn=2021-06-1&isCalendarCallout=false&childAges=&numberOfGuest=0&missingChildAges=false&travellerType=0&showReviewSubmissionEntry=false&currencyCode=VND&isFreeOccSearch=false&tspTypes=3,16,8,-1&los=1&searchrequestid=801616be-9b3a-4dfc-91b5-6161559991a1\n",
      "https://www.agoda.com/vi-vn/saigon-charm-hotel/hotel/ho-chi-minh-city-vn.html?finalPriceView=1&isShowMobileAppPrice=false&cid=-1&numberOfBedrooms=&familyMode=false&adults=1&children=0&rooms=1&maxRooms=0&checkIn=2021-06-1&isCalendarCallout=false&childAges=&numberOfGuest=0&missingChildAges=false&travellerType=0&showReviewSubmissionEntry=false&currencyCode=VND&isFreeOccSearch=false&tspTypes=9&los=1&searchrequestid=801616be-9b3a-4dfc-91b5-6161559991a1\n",
      "https://www.agoda.com/vi-vn/liberty-central-saigon-citypoint-hotel/hotel/ho-chi-minh-city-vn.html?finalPriceView=1&isShowMobileAppPrice=false&cid=-1&numberOfBedrooms=&familyMode=false&adults=1&children=0&rooms=1&maxRooms=0&checkIn=2021-06-1&isCalendarCallout=false&childAges=&numberOfGuest=0&missingChildAges=false&travellerType=0&showReviewSubmissionEntry=false&currencyCode=VND&isFreeOccSearch=false&tspTypes=16&los=1&searchrequestid=801616be-9b3a-4dfc-91b5-6161559991a1\n",
      "https://www.agoda.com/vi-vn/fusion-suites-saigon/hotel/ho-chi-minh-city-vn.html?finalPriceView=1&isShowMobileAppPrice=false&cid=-1&numberOfBedrooms=&familyMode=false&adults=1&children=0&rooms=1&maxRooms=0&checkIn=2021-06-1&isCalendarCallout=false&childAges=&numberOfGuest=0&missingChildAges=false&travellerType=0&showReviewSubmissionEntry=false&currencyCode=VND&isFreeOccSearch=false&tspTypes=16&los=1&searchrequestid=801616be-9b3a-4dfc-91b5-6161559991a1\n",
      "https://www.agoda.com/vi-vn/sedona-suites-ho-chi-minh-city_14/hotel/ho-chi-minh-city-vn.html?finalPriceView=1&isShowMobileAppPrice=false&cid=-1&numberOfBedrooms=&familyMode=false&adults=1&children=0&rooms=1&maxRooms=0&checkIn=2021-06-1&isCalendarCallout=false&childAges=&numberOfGuest=0&missingChildAges=false&travellerType=0&showReviewSubmissionEntry=false&currencyCode=VND&isFreeOccSearch=false&tspTypes=16&los=1&searchrequestid=801616be-9b3a-4dfc-91b5-6161559991a1\n",
      "https://www.agoda.com/vi-vn/meraki-hotel/hotel/ho-chi-minh-city-vn.html?finalPriceView=1&isShowMobileAppPrice=false&cid=-1&numberOfBedrooms=&familyMode=false&adults=1&children=0&rooms=1&maxRooms=0&checkIn=2021-06-1&isCalendarCallout=false&childAges=&numberOfGuest=0&missingChildAges=false&travellerType=0&showReviewSubmissionEntry=false&currencyCode=VND&isFreeOccSearch=false&tspTypes=16&los=1&searchrequestid=801616be-9b3a-4dfc-91b5-6161559991a1\n",
      "https://www.agoda.com/vi-vn/alagon-zen-hotel-spa/hotel/ho-chi-minh-city-vn.html?finalPriceView=1&isShowMobileAppPrice=false&cid=-1&numberOfBedrooms=&familyMode=false&adults=1&children=0&rooms=1&maxRooms=0&checkIn=2021-06-1&isCalendarCallout=false&childAges=&numberOfGuest=0&missingChildAges=false&travellerType=0&showReviewSubmissionEntry=false&currencyCode=VND&isFreeOccSearch=false&tspTypes=2,16,-1&los=1&searchrequestid=801616be-9b3a-4dfc-91b5-6161559991a1\n",
      "https://www.agoda.com/vi-vn/chill-suites_2/hotel/ho-chi-minh-city-vn.html?finalPriceView=1&isShowMobileAppPrice=false&cid=-1&numberOfBedrooms=&familyMode=false&adults=1&children=0&rooms=1&maxRooms=0&checkIn=2021-06-1&isCalendarCallout=false&childAges=&numberOfGuest=0&missingChildAges=false&travellerType=0&showReviewSubmissionEntry=false&currencyCode=VND&isFreeOccSearch=false&tspTypes=9,16,8&los=1&searchrequestid=801616be-9b3a-4dfc-91b5-6161559991a1\n",
      "\n",
      "https://www.agoda.com/vi-vn/intercontinental-saigon/hotel/ho-chi-minh-city-vn.html?finalPriceView=1&isShowMobileAppPrice=false&cid=-1&numberOfBedrooms=&familyMode=false&adults=1&children=0&rooms=1&maxRooms=0&checkIn=2021-06-1&isCalendarCallout=false&childAges=&numberOfGuest=0&missingChildAges=false&travellerType=0&showReviewSubmissionEntry=false&currencyCode=VND&isFreeOccSearch=false&tspTypes=16&los=1&searchrequestid=801616be-9b3a-4dfc-91b5-6161559991a1\n",
      "https://www.agoda.com/vi-vn/silverland-jolie-hotel-spa/hotel/ho-chi-minh-city-vn.html?finalPriceView=1&isShowMobileAppPrice=false&cid=-1&numberOfBedrooms=&familyMode=false&adults=1&children=0&rooms=1&maxRooms=0&checkIn=2021-06-1&isCalendarCallout=false&childAges=&numberOfGuest=0&missingChildAges=false&travellerType=0&showReviewSubmissionEntry=false&currencyCode=VND&isFreeOccSearch=false&tspTypes=16,-1&los=1&searchrequestid=801616be-9b3a-4dfc-91b5-6161559991a1\n",
      "https://www.agoda.com/vi-vn/au-lac-legend-hotel/hotel/ho-chi-minh-city-vn.html?finalPriceView=1&isShowMobileAppPrice=false&cid=-1&numberOfBedrooms=&familyMode=false&adults=1&children=0&rooms=1&maxRooms=0&checkIn=2021-06-1&isCalendarCallout=false&childAges=&numberOfGuest=0&missingChildAges=false&travellerType=0&showReviewSubmissionEntry=false&currencyCode=VND&isFreeOccSearch=false&tspTypes=16&los=1&searchrequestid=801616be-9b3a-4dfc-91b5-6161559991a1\n",
      "https://www.agoda.com/vi-vn/sunrise-central-hotel/hotel/ho-chi-minh-city-vn.html?finalPriceView=1&isShowMobileAppPrice=false&cid=-1&numberOfBedrooms=&familyMode=false&adults=1&children=0&rooms=1&maxRooms=0&checkIn=2021-06-1&isCalendarCallout=false&childAges=&numberOfGuest=0&missingChildAges=false&travellerType=0&showReviewSubmissionEntry=false&currencyCode=VND&isFreeOccSearch=false&tspTypes=6,16,8&los=1&searchrequestid=801616be-9b3a-4dfc-91b5-6161559991a1\n",
      "https://www.agoda.com/vi-vn/hotel-continental-saigon/hotel/ho-chi-minh-city-vn.html?finalPriceView=1&isShowMobileAppPrice=false&cid=-1&numberOfBedrooms=&familyMode=false&adults=1&children=0&rooms=1&maxRooms=0&checkIn=2021-06-1&isCalendarCallout=false&childAges=&numberOfGuest=0&missingChildAges=false&travellerType=0&showReviewSubmissionEntry=false&currencyCode=VND&isFreeOccSearch=false&tspTypes=16&los=1&searchrequestid=801616be-9b3a-4dfc-91b5-6161559991a1\n",
      "https://www.agoda.com/vi-vn/villa-song-saigon-saigon-river-villa/hotel/ho-chi-minh-city-vn.html?finalPriceView=1&isShowMobileAppPrice=false&cid=-1&numberOfBedrooms=&familyMode=false&adults=1&children=0&rooms=1&maxRooms=0&checkIn=2021-06-1&isCalendarCallout=false&childAges=&numberOfGuest=0&missingChildAges=false&travellerType=0&showReviewSubmissionEntry=false&currencyCode=VND&isFreeOccSearch=false&tspTypes=16&los=1&searchrequestid=801616be-9b3a-4dfc-91b5-6161559991a1\n",
      "https://www.agoda.com/vi-vn/icon-saigon-luxury-design-hotel/hotel/ho-chi-minh-city-vn.html?finalPriceView=1&isShowMobileAppPrice=false&cid=-1&numberOfBedrooms=&familyMode=false&adults=1&children=0&rooms=1&maxRooms=0&checkIn=2021-06-1&isCalendarCallout=false&childAges=&numberOfGuest=0&missingChildAges=false&travellerType=0&showReviewSubmissionEntry=false&currencyCode=VND&isFreeOccSearch=false&tspTypes=2,16&los=1&searchrequestid=801616be-9b3a-4dfc-91b5-6161559991a1\n",
      "https://www.agoda.com/vi-vn/hotel-equatorial-ho-chi-minh-city/hotel/ho-chi-minh-city-vn.html?finalPriceView=1&isShowMobileAppPrice=false&cid=-1&numberOfBedrooms=&familyMode=false&adults=1&children=0&rooms=1&maxRooms=0&checkIn=2021-06-1&isCalendarCallout=false&childAges=&numberOfGuest=0&missingChildAges=false&travellerType=0&showReviewSubmissionEntry=false&currencyCode=VND&isFreeOccSearch=false&tspTypes=9&los=1&searchrequestid=801616be-9b3a-4dfc-91b5-6161559991a1\n",
      "https://www.agoda.com/vi-vn/mai-house-saigon-hotel/hotel/ho-chi-minh-city-vn.html?finalPriceView=1&isShowMobileAppPrice=false&cid=-1&numberOfBedrooms=&familyMode=false&adults=1&children=0&rooms=1&maxRooms=0&checkIn=2021-06-1&isCalendarCallout=false&childAges=&numberOfGuest=0&missingChildAges=false&travellerType=0&showReviewSubmissionEntry=false&currencyCode=VND&isFreeOccSearch=false&tspTypes=9,16&los=1&searchrequestid=801616be-9b3a-4dfc-91b5-6161559991a1\n",
      "https://www.agoda.com/vi-vn/maison-de-camille-boutique-hotel_2/hotel/ho-chi-minh-city-vn.html?finalPriceView=1&isShowMobileAppPrice=false&cid=-1&numberOfBedrooms=&familyMode=false&adults=1&children=0&rooms=1&maxRooms=0&checkIn=2021-06-1&isCalendarCallout=false&childAges=&numberOfGuest=0&missingChildAges=false&travellerType=0&showReviewSubmissionEntry=false&currencyCode=VND&isFreeOccSearch=false&tspTypes=1&los=1&searchrequestid=801616be-9b3a-4dfc-91b5-6161559991a1\n",
      "https://www.agoda.com/vi-vn/cozrum-lux-hotel/hotel/ho-chi-minh-city-vn.html?finalPriceView=1&isShowMobileAppPrice=false&cid=-1&numberOfBedrooms=&familyMode=false&adults=1&children=0&rooms=1&maxRooms=0&checkIn=2021-06-1&isCalendarCallout=false&childAges=&numberOfGuest=0&missingChildAges=false&travellerType=0&showReviewSubmissionEntry=false&currencyCode=VND&isFreeOccSearch=false&tspTypes=9,16,8,-1&los=1&searchrequestid=801616be-9b3a-4dfc-91b5-6161559991a1\n",
      "https://www.agoda.com/vi-vn/sofitel-saigon-plaza-hotel/hotel/ho-chi-minh-city-vn.html?finalPriceView=1&isShowMobileAppPrice=false&cid=-1&numberOfBedrooms=&familyMode=false&adults=1&children=0&rooms=1&maxRooms=0&checkIn=2021-06-1&isCalendarCallout=false&childAges=&numberOfGuest=0&missingChildAges=false&travellerType=0&showReviewSubmissionEntry=false&currencyCode=VND&isFreeOccSearch=false&tspTypes=16&los=1&searchrequestid=801616be-9b3a-4dfc-91b5-6161559991a1\n",
      "https://www.agoda.com/vi-vn/quy-hung-hotel/hotel/ho-chi-minh-city-vn.html?finalPriceView=1&isShowMobileAppPrice=false&cid=-1&numberOfBedrooms=&familyMode=false&adults=1&children=0&rooms=1&maxRooms=0&checkIn=2021-06-1&isCalendarCallout=false&childAges=&numberOfGuest=0&missingChildAges=false&travellerType=0&showReviewSubmissionEntry=false&currencyCode=VND&isFreeOccSearch=false&los=1&searchrequestid=801616be-9b3a-4dfc-91b5-6161559991a1\n",
      "https://www.agoda.com/vi-vn/harmony-saigon-hotel-spa/hotel/ho-chi-minh-city-vn.html?finalPriceView=1&isShowMobileAppPrice=false&cid=-1&numberOfBedrooms=&familyMode=false&adults=1&children=0&rooms=1&maxRooms=0&checkIn=2021-06-1&isCalendarCallout=false&childAges=&numberOfGuest=0&missingChildAges=false&travellerType=0&showReviewSubmissionEntry=false&currencyCode=VND&isFreeOccSearch=false&tspTypes=16&los=1&searchrequestid=801616be-9b3a-4dfc-91b5-6161559991a1\n",
      "https://www.agoda.com/vi-vn/palace-hotel-saigon/hotel/ho-chi-minh-city-vn.html?finalPriceView=1&isShowMobileAppPrice=false&cid=-1&numberOfBedrooms=&familyMode=false&adults=1&children=0&rooms=1&maxRooms=0&checkIn=2021-06-1&isCalendarCallout=false&childAges=&numberOfGuest=0&missingChildAges=false&travellerType=0&showReviewSubmissionEntry=false&currencyCode=VND&isFreeOccSearch=false&tspTypes=16&los=1&searchrequestid=801616be-9b3a-4dfc-91b5-6161559991a1\n",
      "https://www.agoda.com/vi-vn/the-reverie-saigon/hotel/ho-chi-minh-city-vn.html?finalPriceView=1&isShowMobileAppPrice=false&cid=-1&numberOfBedrooms=&familyMode=false&adults=1&children=0&rooms=1&maxRooms=0&checkIn=2021-06-1&isCalendarCallout=false&childAges=&numberOfGuest=0&missingChildAges=false&travellerType=0&showReviewSubmissionEntry=false&currencyCode=VND&isFreeOccSearch=false&tspTypes=16&los=1&searchrequestid=193d1d82-9aaf-442b-a677-d1f82cd23eac\n",
      "https://www.agoda.com/vi-vn/sheraton-saigon-hotel-towers_12/hotel/ho-chi-minh-city-vn.html?finalPriceView=1&isShowMobileAppPrice=false&cid=-1&numberOfBedrooms=&familyMode=false&adults=1&children=0&rooms=1&maxRooms=0&checkIn=2021-06-1&isCalendarCallout=false&childAges=&numberOfGuest=0&missingChildAges=false&travellerType=0&showReviewSubmissionEntry=false&currencyCode=VND&isFreeOccSearch=false&tspTypes=16&los=1&searchrequestid=193d1d82-9aaf-442b-a677-d1f82cd23eac\n",
      "https://www.agoda.com/vi-vn/bonita-signature-btx-hotel/hotel/ho-chi-minh-city-vn.html?finalPriceView=1&isShowMobileAppPrice=false&cid=-1&numberOfBedrooms=&familyMode=false&adults=1&children=0&rooms=1&maxRooms=0&checkIn=2021-06-1&isCalendarCallout=false&childAges=&numberOfGuest=0&missingChildAges=false&travellerType=0&showReviewSubmissionEntry=false&currencyCode=VND&isFreeOccSearch=false&tspTypes=16,-1&los=1&searchrequestid=193d1d82-9aaf-442b-a677-d1f82cd23eac\n",
      "\n",
      "https://www.agoda.com/vi-vn/hoa-phat-hotel-apartment/hotel/ho-chi-minh-city-vn.html?finalPriceView=1&isShowMobileAppPrice=false&cid=-1&numberOfBedrooms=&familyMode=false&adults=1&children=0&rooms=1&maxRooms=0&checkIn=2021-06-1&isCalendarCallout=false&childAges=&numberOfGuest=0&missingChildAges=false&travellerType=0&showReviewSubmissionEntry=false&currencyCode=VND&isFreeOccSearch=false&tspTypes=-1&los=1&searchrequestid=193d1d82-9aaf-442b-a677-d1f82cd23eac\n",
      "https://www.agoda.com/vi-vn/roseland-centa-hotel-spa/hotel/ho-chi-minh-city-vn.html?finalPriceView=1&isShowMobileAppPrice=false&cid=-1&numberOfBedrooms=&familyMode=false&adults=1&children=0&rooms=1&maxRooms=0&checkIn=2021-06-1&isCalendarCallout=false&childAges=&numberOfGuest=0&missingChildAges=false&travellerType=0&showReviewSubmissionEntry=false&currencyCode=VND&isFreeOccSearch=false&tspTypes=9,16,-1&los=1&searchrequestid=193d1d82-9aaf-442b-a677-d1f82cd23eac\n",
      "https://www.agoda.com/vi-vn/alagon-plus-hotel-and-spa/hotel/ho-chi-minh-city-vn.html?finalPriceView=1&isShowMobileAppPrice=false&cid=-1&numberOfBedrooms=&familyMode=false&adults=1&children=0&rooms=1&maxRooms=0&checkIn=2021-06-1&isCalendarCallout=false&childAges=&numberOfGuest=0&missingChildAges=false&travellerType=0&showReviewSubmissionEntry=false&currencyCode=VND&isFreeOccSearch=false&tspTypes=2,16&los=1&searchrequestid=193d1d82-9aaf-442b-a677-d1f82cd23eac\n",
      "https://www.agoda.com/vi-vn/saigon-airport-bluesky-serviced-apartment/hotel/ho-chi-minh-city-vn.html?finalPriceView=1&isShowMobileAppPrice=false&cid=-1&numberOfBedrooms=&familyMode=false&adults=1&children=0&rooms=1&maxRooms=0&checkIn=2021-06-1&isCalendarCallout=false&childAges=&numberOfGuest=0&missingChildAges=false&travellerType=0&showReviewSubmissionEntry=false&currencyCode=VND&isFreeOccSearch=false&tspTypes=16&los=1&searchrequestid=193d1d82-9aaf-442b-a677-d1f82cd23eac\n",
      "https://www.agoda.com/vi-vn/aristo-saigon-hotel/hotel/ho-chi-minh-city-vn.html?finalPriceView=1&isShowMobileAppPrice=false&cid=-1&numberOfBedrooms=&familyMode=false&adults=1&children=0&rooms=1&maxRooms=0&checkIn=2021-06-1&isCalendarCallout=false&childAges=&numberOfGuest=0&missingChildAges=false&travellerType=0&showReviewSubmissionEntry=false&currencyCode=VND&isFreeOccSearch=false&tspTypes=9,16&los=1&searchrequestid=193d1d82-9aaf-442b-a677-d1f82cd23eac\n",
      "https://www.agoda.com/vi-vn/tan-son-nhat-saigon-hotel/hotel/ho-chi-minh-city-vn.html?finalPriceView=1&isShowMobileAppPrice=false&cid=-1&numberOfBedrooms=&familyMode=false&adults=1&children=0&rooms=1&maxRooms=0&checkIn=2021-06-1&isCalendarCallout=false&childAges=&numberOfGuest=0&missingChildAges=false&travellerType=0&showReviewSubmissionEntry=false&currencyCode=VND&isFreeOccSearch=false&tspTypes=5&los=1&searchrequestid=193d1d82-9aaf-442b-a677-d1f82cd23eac\n",
      "https://www.agoda.com/vi-vn/oscar-saigon-hotel/hotel/ho-chi-minh-city-vn.html?finalPriceView=1&isShowMobileAppPrice=false&cid=-1&numberOfBedrooms=&familyMode=false&adults=1&children=0&rooms=1&maxRooms=0&checkIn=2021-06-1&isCalendarCallout=false&childAges=&numberOfGuest=0&missingChildAges=false&travellerType=0&showReviewSubmissionEntry=false&currencyCode=VND&isFreeOccSearch=false&tspTypes=2,16&los=1&searchrequestid=193d1d82-9aaf-442b-a677-d1f82cd23eac\n",
      "https://www.agoda.com/vi-vn/saigon-garden-hill/hotel/ho-chi-minh-city-vn.html?finalPriceView=1&isShowMobileAppPrice=false&cid=-1&numberOfBedrooms=&familyMode=false&adults=1&children=0&rooms=1&maxRooms=0&checkIn=2021-06-1&isCalendarCallout=false&childAges=&numberOfGuest=0&missingChildAges=false&travellerType=0&showReviewSubmissionEntry=false&currencyCode=VND&isFreeOccSearch=false&tspTypes=16&los=1&searchrequestid=193d1d82-9aaf-442b-a677-d1f82cd23eac\n",
      "https://www.agoda.com/vi-vn/victory-hotel-saigon/hotel/ho-chi-minh-city-vn.html?finalPriceView=1&isShowMobileAppPrice=false&cid=-1&numberOfBedrooms=&familyMode=false&adults=1&children=0&rooms=1&maxRooms=0&checkIn=2021-06-1&isCalendarCallout=false&childAges=&numberOfGuest=0&missingChildAges=false&travellerType=0&showReviewSubmissionEntry=false&currencyCode=VND&isFreeOccSearch=false&los=1&searchrequestid=193d1d82-9aaf-442b-a677-d1f82cd23eac\n",
      "\n",
      "https://www.agoda.com/vi-vn/vien-dong-hotel/hotel/ho-chi-minh-city-vn.html?finalPriceView=1&isShowMobileAppPrice=false&cid=-1&numberOfBedrooms=&familyMode=false&adults=1&children=0&rooms=1&maxRooms=0&checkIn=2021-06-1&isCalendarCallout=false&childAges=&numberOfGuest=0&missingChildAges=false&travellerType=0&showReviewSubmissionEntry=false&currencyCode=VND&isFreeOccSearch=false&tspTypes=16&los=1&searchrequestid=193d1d82-9aaf-442b-a677-d1f82cd23eac\n",
      "https://www.agoda.com/vi-vn/saigon-prince-hotel/hotel/ho-chi-minh-city-vn.html?finalPriceView=1&isShowMobileAppPrice=false&cid=-1&numberOfBedrooms=&familyMode=false&adults=1&children=0&rooms=1&maxRooms=0&checkIn=2021-06-1&isCalendarCallout=false&childAges=&numberOfGuest=0&missingChildAges=false&travellerType=0&showReviewSubmissionEntry=false&currencyCode=VND&isFreeOccSearch=false&tspTypes=16&los=1&searchrequestid=193d1d82-9aaf-442b-a677-d1f82cd23eac\n",
      "https://www.agoda.com/vi-vn/m-boutique-hotel/hotel/ho-chi-minh-city-vn.html?finalPriceView=1&isShowMobileAppPrice=false&cid=-1&numberOfBedrooms=&familyMode=false&adults=1&children=0&rooms=1&maxRooms=0&checkIn=2021-06-1&isCalendarCallout=false&childAges=&numberOfGuest=0&missingChildAges=false&travellerType=0&showReviewSubmissionEntry=false&currencyCode=VND&isFreeOccSearch=false&tspTypes=16&los=1&searchrequestid=193d1d82-9aaf-442b-a677-d1f82cd23eac\n",
      "https://www.agoda.com/vi-vn/lucky-star-hotel-146-nguyen-trai/hotel/ho-chi-minh-city-vn.html?finalPriceView=1&isShowMobileAppPrice=false&cid=-1&numberOfBedrooms=&familyMode=false&adults=1&children=0&rooms=1&maxRooms=0&checkIn=2021-06-1&isCalendarCallout=false&childAges=&numberOfGuest=0&missingChildAges=false&travellerType=0&showReviewSubmissionEntry=false&currencyCode=VND&isFreeOccSearch=false&tspTypes=16,-1&los=1&searchrequestid=193d1d82-9aaf-442b-a677-d1f82cd23eac\n",
      "https://www.agoda.com/vi-vn/bong-sen-hotel-saigon/hotel/ho-chi-minh-city-vn.html?finalPriceView=1&isShowMobileAppPrice=false&cid=-1&numberOfBedrooms=&familyMode=false&adults=1&children=0&rooms=1&maxRooms=0&checkIn=2021-06-1&isCalendarCallout=false&childAges=&numberOfGuest=0&missingChildAges=false&travellerType=0&showReviewSubmissionEntry=false&currencyCode=VND&isFreeOccSearch=false&tspTypes=16&los=1&searchrequestid=193d1d82-9aaf-442b-a677-d1f82cd23eac\n",
      "https://www.agoda.com/vi-vn/golda-hotel/hotel/ho-chi-minh-city-vn.html?finalPriceView=1&isShowMobileAppPrice=false&cid=-1&numberOfBedrooms=&familyMode=false&adults=1&children=0&rooms=1&maxRooms=0&checkIn=2021-06-1&isCalendarCallout=false&childAges=&numberOfGuest=0&missingChildAges=false&travellerType=0&showReviewSubmissionEntry=false&currencyCode=VND&isFreeOccSearch=false&tspTypes=16&los=1&searchrequestid=193d1d82-9aaf-442b-a677-d1f82cd23eac\n",
      "https://www.agoda.com/vi-vn/universe-suites-h9101256/hotel/ho-chi-minh-city-vn.html?finalPriceView=1&isShowMobileAppPrice=false&cid=-1&numberOfBedrooms=&familyMode=false&adults=1&children=0&rooms=1&maxRooms=0&checkIn=2021-06-1&isCalendarCallout=false&childAges=&numberOfGuest=0&missingChildAges=false&travellerType=0&showReviewSubmissionEntry=false&currencyCode=VND&isFreeOccSearch=false&tspTypes=6,16&los=1&searchrequestid=193d1d82-9aaf-442b-a677-d1f82cd23eac\n",
      "https://www.agoda.com/vi-vn/the-art-sunshine-apartment/hotel/ho-chi-minh-city-vn.html?finalPriceView=1&isShowMobileAppPrice=false&cid=-1&numberOfBedrooms=&familyMode=false&adults=1&children=0&rooms=1&maxRooms=0&checkIn=2021-06-1&isCalendarCallout=false&childAges=&numberOfGuest=0&missingChildAges=false&travellerType=0&showReviewSubmissionEntry=false&currencyCode=VND&isFreeOccSearch=false&tspTypes=1,16&los=1&searchrequestid=193d1d82-9aaf-442b-a677-d1f82cd23eac\n",
      "https://www.agoda.com/vi-vn/cozrum-homes-ambera-house/hotel/ho-chi-minh-city-vn.html?finalPriceView=1&isShowMobileAppPrice=false&cid=-1&numberOfBedrooms=&familyMode=false&adults=1&children=0&rooms=1&maxRooms=0&checkIn=2021-06-1&isCalendarCallout=false&childAges=&numberOfGuest=0&missingChildAges=false&travellerType=0&showReviewSubmissionEntry=false&currencyCode=VND&isFreeOccSearch=false&tspTypes=1,-1&los=1&searchrequestid=193d1d82-9aaf-442b-a677-d1f82cd23eac\n",
      "\n",
      "https://www.agoda.com/vi-vn/cozrum-homes-may-s-house/hotel/ho-chi-minh-city-vn.html?finalPriceView=1&isShowMobileAppPrice=false&cid=-1&numberOfBedrooms=&familyMode=false&adults=1&children=0&rooms=1&maxRooms=0&checkIn=2021-06-1&isCalendarCallout=false&childAges=&numberOfGuest=0&missingChildAges=false&travellerType=0&showReviewSubmissionEntry=false&currencyCode=VND&isFreeOccSearch=false&tspTypes=4,16,-1&los=1&searchrequestid=193d1d82-9aaf-442b-a677-d1f82cd23eac\n",
      "https://www.agoda.com/vi-vn/la-memoria/hotel/ho-chi-minh-city-vn.html?finalPriceView=1&isShowMobileAppPrice=false&cid=-1&numberOfBedrooms=&familyMode=false&adults=1&children=0&rooms=1&maxRooms=0&checkIn=2021-06-1&isCalendarCallout=false&childAges=&numberOfGuest=0&missingChildAges=false&travellerType=0&showReviewSubmissionEntry=false&currencyCode=VND&isFreeOccSearch=false&los=1&searchrequestid=193d1d82-9aaf-442b-a677-d1f82cd23eac\n",
      "https://www.agoda.com/vi-vn/huong-sen-hotel/hotel/ho-chi-minh-city-vn.html?finalPriceView=1&isShowMobileAppPrice=false&cid=-1&numberOfBedrooms=&familyMode=false&adults=1&children=0&rooms=1&maxRooms=0&checkIn=2021-06-1&isCalendarCallout=false&childAges=&numberOfGuest=0&missingChildAges=false&travellerType=0&showReviewSubmissionEntry=false&currencyCode=VND&isFreeOccSearch=false&tspTypes=16&los=1&searchrequestid=193d1d82-9aaf-442b-a677-d1f82cd23eac\n",
      "https://www.agoda.com/vi-vn/ramana-saigon-hotel/hotel/ho-chi-minh-city-vn.html?finalPriceView=1&isShowMobileAppPrice=false&cid=-1&numberOfBedrooms=&familyMode=false&adults=1&children=0&rooms=1&maxRooms=0&checkIn=2021-06-1&isCalendarCallout=false&childAges=&numberOfGuest=0&missingChildAges=false&travellerType=0&showReviewSubmissionEntry=false&currencyCode=VND&isFreeOccSearch=false&los=1&searchrequestid=193d1d82-9aaf-442b-a677-d1f82cd23eac\n",
      "https://www.agoda.com/vi-vn/winsuites-saigon-hotel/hotel/ho-chi-minh-city-vn.html?finalPriceView=1&isShowMobileAppPrice=false&cid=-1&numberOfBedrooms=&familyMode=false&adults=1&children=0&rooms=1&maxRooms=0&checkIn=2021-06-1&isCalendarCallout=false&childAges=&numberOfGuest=0&missingChildAges=false&travellerType=0&showReviewSubmissionEntry=false&currencyCode=VND&isFreeOccSearch=false&tspTypes=2,16&los=1&searchrequestid=193d1d82-9aaf-442b-a677-d1f82cd23eac\n",
      "https://www.agoda.com/vi-vn/aquari-hotel/hotel/ho-chi-minh-city-vn.html?finalPriceView=1&isShowMobileAppPrice=false&cid=-1&numberOfBedrooms=&familyMode=false&adults=1&children=0&rooms=1&maxRooms=0&checkIn=2021-06-1&isCalendarCallout=false&childAges=&numberOfGuest=0&missingChildAges=false&travellerType=0&showReviewSubmissionEntry=false&currencyCode=VND&isFreeOccSearch=false&tspTypes=16,-1&los=1&searchrequestid=193d1d82-9aaf-442b-a677-d1f82cd23eac\n",
      "https://www.agoda.com/vi-vn/d1mension-residences/hotel/ho-chi-minh-city-vn.html?finalPriceView=1&isShowMobileAppPrice=false&cid=-1&numberOfBedrooms=&familyMode=false&adults=1&children=0&rooms=1&maxRooms=0&checkIn=2021-06-1&isCalendarCallout=false&childAges=&numberOfGuest=0&missingChildAges=false&travellerType=0&showReviewSubmissionEntry=false&currencyCode=VND&isFreeOccSearch=false&tspTypes=16&los=1&searchrequestid=193d1d82-9aaf-442b-a677-d1f82cd23eac\n",
      "https://www.agoda.com/vi-vn/ha-noi-hotel-saigon/hotel/ho-chi-minh-city-vn.html?finalPriceView=1&isShowMobileAppPrice=false&cid=-1&numberOfBedrooms=&familyMode=false&adults=1&children=0&rooms=1&maxRooms=0&checkIn=2021-06-1&isCalendarCallout=false&childAges=&numberOfGuest=0&missingChildAges=false&travellerType=0&showReviewSubmissionEntry=false&currencyCode=VND&isFreeOccSearch=false&los=1&searchrequestid=193d1d82-9aaf-442b-a677-d1f82cd23eac\n",
      "https://www.agoda.com/vi-vn/vilion-central-hotel/hotel/ho-chi-minh-city-vn.html?finalPriceView=1&isShowMobileAppPrice=false&cid=-1&numberOfBedrooms=&familyMode=false&adults=1&children=0&rooms=1&maxRooms=0&checkIn=2021-06-1&isCalendarCallout=false&childAges=&numberOfGuest=0&missingChildAges=false&travellerType=0&showReviewSubmissionEntry=false&currencyCode=VND&isFreeOccSearch=false&tspTypes=3,16&los=1&searchrequestid=193d1d82-9aaf-442b-a677-d1f82cd23eac\n",
      "\n",
      "https://www.agoda.com/vi-vn/la-regatta-boutique-residences/hotel/ho-chi-minh-city-vn.html?finalPriceView=1&isShowMobileAppPrice=false&cid=-1&numberOfBedrooms=&familyMode=false&adults=1&children=0&rooms=1&maxRooms=0&checkIn=2021-06-1&isCalendarCallout=false&childAges=&numberOfGuest=0&missingChildAges=false&travellerType=0&showReviewSubmissionEntry=false&currencyCode=VND&isFreeOccSearch=false&tspTypes=9,-1&los=1&searchrequestid=193d1d82-9aaf-442b-a677-d1f82cd23eac\n",
      "https://www.agoda.com/vi-vn/innside-by-melia-saigon-central/hotel/ho-chi-minh-city-vn.html?finalPriceView=1&isShowMobileAppPrice=false&cid=-1&numberOfBedrooms=&familyMode=false&adults=1&children=0&rooms=1&maxRooms=0&checkIn=2021-06-1&isCalendarCallout=false&childAges=&numberOfGuest=0&missingChildAges=false&travellerType=0&showReviewSubmissionEntry=false&currencyCode=VND&isFreeOccSearch=false&tspTypes=16&los=1&searchrequestid=193d1d82-9aaf-442b-a677-d1f82cd23eac\n",
      "https://www.agoda.com/vi-vn/uptown-hotel_2/hotel/ho-chi-minh-city-vn.html?finalPriceView=1&isShowMobileAppPrice=false&cid=-1&numberOfBedrooms=&familyMode=false&adults=1&children=0&rooms=1&maxRooms=0&checkIn=2021-06-1&isCalendarCallout=false&childAges=&numberOfGuest=0&missingChildAges=false&travellerType=0&showReviewSubmissionEntry=false&currencyCode=VND&isFreeOccSearch=false&tspTypes=1,16&los=1&searchrequestid=193d1d82-9aaf-442b-a677-d1f82cd23eac\n",
      "https://www.agoda.com/vi-vn/sach-hotel-h18927528/hotel/ho-chi-minh-city-vn.html?finalPriceView=1&isShowMobileAppPrice=false&cid=-1&numberOfBedrooms=&familyMode=false&adults=1&children=0&rooms=1&maxRooms=0&checkIn=2021-06-1&isCalendarCallout=false&childAges=&numberOfGuest=0&missingChildAges=false&travellerType=0&showReviewSubmissionEntry=false&currencyCode=VND&isFreeOccSearch=false&los=1&searchrequestid=193d1d82-9aaf-442b-a677-d1f82cd23eac\n",
      "https://www.agoda.com/vi-vn/orchids-saigon-hotel/hotel/ho-chi-minh-city-vn.html?finalPriceView=1&isShowMobileAppPrice=false&cid=-1&numberOfBedrooms=&familyMode=false&adults=1&children=0&rooms=1&maxRooms=0&checkIn=2021-06-1&isCalendarCallout=false&childAges=&numberOfGuest=0&missingChildAges=false&travellerType=0&showReviewSubmissionEntry=false&currencyCode=VND&isFreeOccSearch=false&tspTypes=16&los=1&searchrequestid=193d1d82-9aaf-442b-a677-d1f82cd23eac\n",
      "https://www.agoda.com/vi-vn/liberty-central-saigon-riverside-hotel/hotel/ho-chi-minh-city-vn.html?finalPriceView=1&isShowMobileAppPrice=false&cid=-1&numberOfBedrooms=&familyMode=false&adults=1&children=0&rooms=1&maxRooms=0&checkIn=2021-06-1&isCalendarCallout=false&childAges=&numberOfGuest=0&missingChildAges=false&travellerType=0&showReviewSubmissionEntry=false&currencyCode=VND&isFreeOccSearch=false&tspTypes=16&los=1&searchrequestid=193d1d82-9aaf-442b-a677-d1f82cd23eac\n",
      "https://www.agoda.com/vi-vn/cozrum-homes-aurora-house/hotel/ho-chi-minh-city-vn.html?finalPriceView=1&isShowMobileAppPrice=false&cid=-1&numberOfBedrooms=&familyMode=false&adults=1&children=0&rooms=1&maxRooms=0&checkIn=2021-06-1&isCalendarCallout=false&childAges=&numberOfGuest=0&missingChildAges=false&travellerType=0&showReviewSubmissionEntry=false&currencyCode=VND&isFreeOccSearch=false&tspTypes=9,-1&los=1&searchrequestid=193d1d82-9aaf-442b-a677-d1f82cd23eac\n",
      "https://www.agoda.com/vi-vn/reddoorz-plus-near-ba-chieu-local-market/hotel/ho-chi-minh-city-vn.html?finalPriceView=1&isShowMobileAppPrice=false&cid=-1&numberOfBedrooms=&familyMode=false&adults=1&children=0&rooms=1&maxRooms=0&checkIn=2021-06-1&isCalendarCallout=false&childAges=&numberOfGuest=0&missingChildAges=false&travellerType=0&showReviewSubmissionEntry=false&currencyCode=VND&isFreeOccSearch=false&tspTypes=9&los=1&searchrequestid=193d1d82-9aaf-442b-a677-d1f82cd23eac\n",
      "https://www.agoda.com/vi-vn/lotus-central-hotel-saigon/hotel/ho-chi-minh-city-vn.html?finalPriceView=1&isShowMobileAppPrice=false&cid=-1&numberOfBedrooms=&familyMode=false&adults=1&children=0&rooms=1&maxRooms=0&checkIn=2021-06-1&isCalendarCallout=false&childAges=&numberOfGuest=0&missingChildAges=false&travellerType=0&showReviewSubmissionEntry=false&currencyCode=VND&isFreeOccSearch=false&tspTypes=2,16,-1&los=1&searchrequestid=193d1d82-9aaf-442b-a677-d1f82cd23eac\n",
      "https://www.agoda.com/vi-vn/h79-hotel/hotel/ho-chi-minh-city-vn.html?finalPriceView=1&isShowMobileAppPrice=false&cid=-1&numberOfBedrooms=&familyMode=false&adults=1&children=0&rooms=1&maxRooms=0&checkIn=2021-06-1&isCalendarCallout=false&childAges=&numberOfGuest=0&missingChildAges=false&travellerType=0&showReviewSubmissionEntry=false&currencyCode=VND&isFreeOccSearch=false&tspTypes=9&los=1&searchrequestid=193d1d82-9aaf-442b-a677-d1f82cd23eac\n",
      "https://www.agoda.com/vi-vn/sen-viet-hotel/hotel/ho-chi-minh-city-vn.html?finalPriceView=1&isShowMobileAppPrice=false&cid=-1&numberOfBedrooms=&familyMode=false&adults=1&children=0&rooms=1&maxRooms=0&checkIn=2021-06-1&isCalendarCallout=false&childAges=&numberOfGuest=0&missingChildAges=false&travellerType=0&showReviewSubmissionEntry=false&currencyCode=VND&isFreeOccSearch=false&los=1&searchrequestid=193d1d82-9aaf-442b-a677-d1f82cd23eac\n",
      "https://www.agoda.com/vi-vn/cicilia-saigon-hotel-spa_4/hotel/ho-chi-minh-city-vn.html?finalPriceView=1&isShowMobileAppPrice=false&cid=-1&numberOfBedrooms=&familyMode=false&adults=1&children=0&rooms=1&maxRooms=0&checkIn=2021-06-1&isCalendarCallout=false&childAges=&numberOfGuest=0&missingChildAges=false&travellerType=0&showReviewSubmissionEntry=false&currencyCode=VND&isFreeOccSearch=false&tspTypes=9,16&los=1&searchrequestid=193d1d82-9aaf-442b-a677-d1f82cd23eac\n",
      "https://www.agoda.com/vi-vn/hamonica-thao-dien-apartment/hotel/all/ho-chi-minh-city-vn.html?finalPriceView=1&isShowMobileAppPrice=false&cid=-1&numberOfBedrooms=&familyMode=false&adults=1&children=0&rooms=1&maxRooms=0&checkIn=2021-06-1&isCalendarCallout=false&childAges=&numberOfGuest=0&missingChildAges=false&travellerType=0&showReviewSubmissionEntry=false&currencyCode=VND&isFreeOccSearch=false&los=1&searchrequestid=193d1d82-9aaf-442b-a677-d1f82cd23eac\n",
      "https://www.agoda.com/vi-vn/new-world-saigon-hotel/hotel/ho-chi-minh-city-vn.html?finalPriceView=1&isShowMobileAppPrice=false&cid=-1&numberOfBedrooms=&familyMode=false&adults=1&children=0&rooms=1&maxRooms=0&checkIn=2021-06-1&isCalendarCallout=false&childAges=&numberOfGuest=0&missingChildAges=false&travellerType=0&showReviewSubmissionEntry=false&currencyCode=VND&isFreeOccSearch=false&tspTypes=16&los=1&searchrequestid=193d1d82-9aaf-442b-a677-d1f82cd23eac\n",
      "https://www.agoda.com/vi-vn/amanaki-saigon-boutique-hotel/hotel/ho-chi-minh-city-vn.html?finalPriceView=1&isShowMobileAppPrice=false&cid=-1&numberOfBedrooms=&familyMode=false&adults=1&children=0&rooms=1&maxRooms=0&checkIn=2021-06-1&isCalendarCallout=false&childAges=&numberOfGuest=0&missingChildAges=false&travellerType=0&showReviewSubmissionEntry=false&currencyCode=VND&isFreeOccSearch=false&tspTypes=16&los=1&searchrequestid=193d1d82-9aaf-442b-a677-d1f82cd23eac\n"
     ]
    }
   ],
   "source": [
    "hotel_elements = driver.find_elements_by_css_selector(\n",
    "    'li.PropertyCard.PropertyCardItem[data-selenium=\"hotel-item\"]')\n",
    "print(len(hotel_elements))\n",
    "for hotel_element in hotel_elements:\n",
    "    try:\n",
    "        hotel_link = hotel_element.find_element_by_css_selector(\n",
    "            'a.PropertyCard__Link').get_attribute('href')\n",
    "        price = hotel_element.find_element_by_css_selector(\n",
    "            'span.PropertyCardPrice__Value').text\n",
    "    except Exception:\n",
    "        hotel_link = ''\n",
    "        price = -1\n",
    "    print(hotel_link)"
   ]
  },
  {
   "cell_type": "code",
   "execution_count": 6,
   "id": "65bb4af9",
   "metadata": {
    "ExecuteTime": {
     "end_time": "2021-05-23T14:14:05.486175Z",
     "start_time": "2021-05-23T14:13:18.204535Z"
    }
   },
   "outputs": [
    {
     "ename": "KeyboardInterrupt",
     "evalue": "",
     "output_type": "error",
     "traceback": [
      "\u001b[0;31m---------------------------------------------------------------------------\u001b[0m",
      "\u001b[0;31mKeyboardInterrupt\u001b[0m                         Traceback (most recent call last)",
      "\u001b[0;32m<ipython-input-6-741d4cec6245>\u001b[0m in \u001b[0;36m<module>\u001b[0;34m\u001b[0m\n\u001b[1;32m      3\u001b[0m     \u001b[0mdriver\u001b[0m\u001b[0;34m.\u001b[0m\u001b[0mexecute_script\u001b[0m\u001b[0;34m(\u001b[0m\u001b[0;34m\"window.scrollTo(0, \"\u001b[0m\u001b[0;34m+\u001b[0m\u001b[0mstr\u001b[0m\u001b[0;34m(\u001b[0m\u001b[0my\u001b[0m\u001b[0;34m)\u001b[0m\u001b[0;34m+\u001b[0m\u001b[0;34m\")\"\u001b[0m\u001b[0;34m)\u001b[0m\u001b[0;34m\u001b[0m\u001b[0;34m\u001b[0m\u001b[0m\n\u001b[1;32m      4\u001b[0m     \u001b[0my\u001b[0m \u001b[0;34m+=\u001b[0m \u001b[0;36m1000\u001b[0m\u001b[0;34m\u001b[0m\u001b[0;34m\u001b[0m\u001b[0m\n\u001b[0;32m----> 5\u001b[0;31m     \u001b[0mtime\u001b[0m\u001b[0;34m.\u001b[0m\u001b[0msleep\u001b[0m\u001b[0;34m(\u001b[0m\u001b[0;36m1\u001b[0m\u001b[0;34m)\u001b[0m\u001b[0;34m\u001b[0m\u001b[0;34m\u001b[0m\u001b[0m\n\u001b[0m",
      "\u001b[0;31mKeyboardInterrupt\u001b[0m: "
     ]
    }
   ],
   "source": [
    "y = 1000\n",
    "for timer in range(0, 50):\n",
    "    driver.execute_script(\"window.scrollTo(0, \"+str(y)+\")\")\n",
    "    y += 1000\n",
    "    #time.sleep(1)"
   ]
  }
 ],
 "metadata": {
  "kernelspec": {
   "display_name": "Python 3",
   "language": "python",
   "name": "python3"
  },
  "language_info": {
   "codemirror_mode": {
    "name": "ipython",
    "version": 3
   },
   "file_extension": ".py",
   "mimetype": "text/x-python",
   "name": "python",
   "nbconvert_exporter": "python",
   "pygments_lexer": "ipython3",
   "version": "3.8.5"
  },
  "toc": {
   "base_numbering": 1,
   "nav_menu": {},
   "number_sections": true,
   "sideBar": true,
   "skip_h1_title": false,
   "title_cell": "Table of Contents",
   "title_sidebar": "Contents",
   "toc_cell": false,
   "toc_position": {},
   "toc_section_display": true,
   "toc_window_display": false
  }
 },
 "nbformat": 4,
 "nbformat_minor": 5
}
