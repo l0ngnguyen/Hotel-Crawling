{
 "cells": [
  {
   "cell_type": "code",
   "execution_count": 1,
   "id": "e98c7526",
   "metadata": {
    "ExecuteTime": {
     "end_time": "2021-05-24T20:11:56.943275Z",
     "start_time": "2021-05-24T20:11:56.864502Z"
    }
   },
   "outputs": [],
   "source": [
    "from selenium import webdriver\n",
    "\n",
    "from selenium.webdriver.common.by import By\n",
    "from selenium.webdriver.support.ui import WebDriverWait\n",
    "from selenium.webdriver.support import expected_conditions as EC\n",
    "\n",
    "import time"
   ]
  },
  {
   "cell_type": "code",
   "execution_count": 14,
   "id": "ac3be6c4",
   "metadata": {
    "ExecuteTime": {
     "end_time": "2021-05-24T20:18:36.771358Z",
     "start_time": "2021-05-24T20:18:36.752089Z"
    }
   },
   "outputs": [
    {
     "ename": "OSError",
     "evalue": "[Errno 8] Exec format error: '/home/long/CodeWorkspace/hotel_crawling/HotelCrawling/chromedriver'",
     "output_type": "error",
     "traceback": [
      "\u001b[0;31m---------------------------------------------------------------------------\u001b[0m",
      "\u001b[0;31mOSError\u001b[0m                                   Traceback (most recent call last)",
      "\u001b[0;32m<ipython-input-14-58ef60ba21a2>\u001b[0m in \u001b[0;36m<module>\u001b[0;34m\u001b[0m\n\u001b[0;32m----> 1\u001b[0;31m \u001b[0mdriver\u001b[0m \u001b[0;34m=\u001b[0m \u001b[0mwebdriver\u001b[0m\u001b[0;34m.\u001b[0m\u001b[0mChrome\u001b[0m\u001b[0;34m(\u001b[0m\u001b[0;34m'/home/long/CodeWorkspace/hotel_crawling/HotelCrawling/chromedriver'\u001b[0m\u001b[0;34m)\u001b[0m\u001b[0;34m\u001b[0m\u001b[0;34m\u001b[0m\u001b[0m\n\u001b[0m\u001b[1;32m      2\u001b[0m \u001b[0mdriver\u001b[0m\u001b[0;34m.\u001b[0m\u001b[0mget\u001b[0m\u001b[0;34m(\u001b[0m\u001b[0;34m'https://www.tripadvisor.com.vn/Hotels-g2146283-oa930-Quang_Ninh_Province-Hotels.html'\u001b[0m\u001b[0;34m)\u001b[0m\u001b[0;34m\u001b[0m\u001b[0;34m\u001b[0m\u001b[0m\n",
      "\u001b[0;32m~/anaconda3/envs/ds38/lib/python3.8/site-packages/selenium/webdriver/chrome/webdriver.py\u001b[0m in \u001b[0;36m__init__\u001b[0;34m(self, executable_path, port, options, service_args, desired_capabilities, service_log_path, chrome_options, keep_alive)\u001b[0m\n\u001b[1;32m     71\u001b[0m             \u001b[0mservice_args\u001b[0m\u001b[0;34m=\u001b[0m\u001b[0mservice_args\u001b[0m\u001b[0;34m,\u001b[0m\u001b[0;34m\u001b[0m\u001b[0;34m\u001b[0m\u001b[0m\n\u001b[1;32m     72\u001b[0m             log_path=service_log_path)\n\u001b[0;32m---> 73\u001b[0;31m         \u001b[0mself\u001b[0m\u001b[0;34m.\u001b[0m\u001b[0mservice\u001b[0m\u001b[0;34m.\u001b[0m\u001b[0mstart\u001b[0m\u001b[0;34m(\u001b[0m\u001b[0;34m)\u001b[0m\u001b[0;34m\u001b[0m\u001b[0;34m\u001b[0m\u001b[0m\n\u001b[0m\u001b[1;32m     74\u001b[0m \u001b[0;34m\u001b[0m\u001b[0m\n\u001b[1;32m     75\u001b[0m         \u001b[0;32mtry\u001b[0m\u001b[0;34m:\u001b[0m\u001b[0;34m\u001b[0m\u001b[0;34m\u001b[0m\u001b[0m\n",
      "\u001b[0;32m~/anaconda3/envs/ds38/lib/python3.8/site-packages/selenium/webdriver/common/service.py\u001b[0m in \u001b[0;36mstart\u001b[0;34m(self)\u001b[0m\n\u001b[1;32m     70\u001b[0m             \u001b[0mcmd\u001b[0m \u001b[0;34m=\u001b[0m \u001b[0;34m[\u001b[0m\u001b[0mself\u001b[0m\u001b[0;34m.\u001b[0m\u001b[0mpath\u001b[0m\u001b[0;34m]\u001b[0m\u001b[0;34m\u001b[0m\u001b[0;34m\u001b[0m\u001b[0m\n\u001b[1;32m     71\u001b[0m             \u001b[0mcmd\u001b[0m\u001b[0;34m.\u001b[0m\u001b[0mextend\u001b[0m\u001b[0;34m(\u001b[0m\u001b[0mself\u001b[0m\u001b[0;34m.\u001b[0m\u001b[0mcommand_line_args\u001b[0m\u001b[0;34m(\u001b[0m\u001b[0;34m)\u001b[0m\u001b[0;34m)\u001b[0m\u001b[0;34m\u001b[0m\u001b[0;34m\u001b[0m\u001b[0m\n\u001b[0;32m---> 72\u001b[0;31m             self.process = subprocess.Popen(cmd, env=self.env,\n\u001b[0m\u001b[1;32m     73\u001b[0m                                             \u001b[0mclose_fds\u001b[0m\u001b[0;34m=\u001b[0m\u001b[0mplatform\u001b[0m\u001b[0;34m.\u001b[0m\u001b[0msystem\u001b[0m\u001b[0;34m(\u001b[0m\u001b[0;34m)\u001b[0m \u001b[0;34m!=\u001b[0m \u001b[0;34m'Windows'\u001b[0m\u001b[0;34m,\u001b[0m\u001b[0;34m\u001b[0m\u001b[0;34m\u001b[0m\u001b[0m\n\u001b[1;32m     74\u001b[0m                                             \u001b[0mstdout\u001b[0m\u001b[0;34m=\u001b[0m\u001b[0mself\u001b[0m\u001b[0;34m.\u001b[0m\u001b[0mlog_file\u001b[0m\u001b[0;34m,\u001b[0m\u001b[0;34m\u001b[0m\u001b[0;34m\u001b[0m\u001b[0m\n",
      "\u001b[0;32m~/anaconda3/envs/ds38/lib/python3.8/subprocess.py\u001b[0m in \u001b[0;36m__init__\u001b[0;34m(self, args, bufsize, executable, stdin, stdout, stderr, preexec_fn, close_fds, shell, cwd, env, universal_newlines, startupinfo, creationflags, restore_signals, start_new_session, pass_fds, encoding, errors, text)\u001b[0m\n\u001b[1;32m    856\u001b[0m                             encoding=encoding, errors=errors)\n\u001b[1;32m    857\u001b[0m \u001b[0;34m\u001b[0m\u001b[0m\n\u001b[0;32m--> 858\u001b[0;31m             self._execute_child(args, executable, preexec_fn, close_fds,\n\u001b[0m\u001b[1;32m    859\u001b[0m                                 \u001b[0mpass_fds\u001b[0m\u001b[0;34m,\u001b[0m \u001b[0mcwd\u001b[0m\u001b[0;34m,\u001b[0m \u001b[0menv\u001b[0m\u001b[0;34m,\u001b[0m\u001b[0;34m\u001b[0m\u001b[0;34m\u001b[0m\u001b[0m\n\u001b[1;32m    860\u001b[0m                                 \u001b[0mstartupinfo\u001b[0m\u001b[0;34m,\u001b[0m \u001b[0mcreationflags\u001b[0m\u001b[0;34m,\u001b[0m \u001b[0mshell\u001b[0m\u001b[0;34m,\u001b[0m\u001b[0;34m\u001b[0m\u001b[0;34m\u001b[0m\u001b[0m\n",
      "\u001b[0;32m~/anaconda3/envs/ds38/lib/python3.8/subprocess.py\u001b[0m in \u001b[0;36m_execute_child\u001b[0;34m(self, args, executable, preexec_fn, close_fds, pass_fds, cwd, env, startupinfo, creationflags, shell, p2cread, p2cwrite, c2pread, c2pwrite, errread, errwrite, restore_signals, start_new_session)\u001b[0m\n\u001b[1;32m   1704\u001b[0m                     \u001b[0;32mif\u001b[0m \u001b[0merrno_num\u001b[0m \u001b[0;34m!=\u001b[0m \u001b[0;36m0\u001b[0m\u001b[0;34m:\u001b[0m\u001b[0;34m\u001b[0m\u001b[0;34m\u001b[0m\u001b[0m\n\u001b[1;32m   1705\u001b[0m                         \u001b[0merr_msg\u001b[0m \u001b[0;34m=\u001b[0m \u001b[0mos\u001b[0m\u001b[0;34m.\u001b[0m\u001b[0mstrerror\u001b[0m\u001b[0;34m(\u001b[0m\u001b[0merrno_num\u001b[0m\u001b[0;34m)\u001b[0m\u001b[0;34m\u001b[0m\u001b[0;34m\u001b[0m\u001b[0m\n\u001b[0;32m-> 1706\u001b[0;31m                     \u001b[0;32mraise\u001b[0m \u001b[0mchild_exception_type\u001b[0m\u001b[0;34m(\u001b[0m\u001b[0merrno_num\u001b[0m\u001b[0;34m,\u001b[0m \u001b[0merr_msg\u001b[0m\u001b[0;34m,\u001b[0m \u001b[0merr_filename\u001b[0m\u001b[0;34m)\u001b[0m\u001b[0;34m\u001b[0m\u001b[0;34m\u001b[0m\u001b[0m\n\u001b[0m\u001b[1;32m   1707\u001b[0m                 \u001b[0;32mraise\u001b[0m \u001b[0mchild_exception_type\u001b[0m\u001b[0;34m(\u001b[0m\u001b[0merr_msg\u001b[0m\u001b[0;34m)\u001b[0m\u001b[0;34m\u001b[0m\u001b[0;34m\u001b[0m\u001b[0m\n\u001b[1;32m   1708\u001b[0m \u001b[0;34m\u001b[0m\u001b[0m\n",
      "\u001b[0;31mOSError\u001b[0m: [Errno 8] Exec format error: '/home/long/CodeWorkspace/hotel_crawling/HotelCrawling/chromedriver'"
     ]
    }
   ],
   "source": [
    "driver = webdriver.Chrome('/home/long/CodeWorkspace/hotel_crawling/HotelCrawling/chromedriver')\n",
    "driver.get('https://www.tripadvisor.com.vn/Hotels-g2146283-oa930-Quang_Ninh_Province-Hotels.html')"
   ]
  },
  {
   "cell_type": "code",
   "execution_count": 87,
   "id": "49364f9b",
   "metadata": {
    "ExecuteTime": {
     "end_time": "2021-05-24T00:55:08.930894Z",
     "start_time": "2021-05-24T00:55:08.895851Z"
    }
   },
   "outputs": [],
   "source": [
    "hotel_elements = driver.find_element_by_css_selector(\n",
    "                    'li.PropertyCard.PropertyCardItem[data-selenium=\"hotel-item\"]')"
   ]
  },
  {
   "cell_type": "code",
   "execution_count": 91,
   "id": "6f3f3844",
   "metadata": {
    "ExecuteTime": {
     "end_time": "2021-05-24T00:57:59.505155Z",
     "start_time": "2021-05-24T00:57:59.391577Z"
    }
   },
   "outputs": [],
   "source": [
    "hotel_elements.find_element_by_css_selector('span.Overlay.Gallery__Thumbnail.Gallery__Thumbnail--last').click()"
   ]
  },
  {
   "cell_type": "code",
   "execution_count": 80,
   "id": "5505ed2f",
   "metadata": {
    "ExecuteTime": {
     "end_time": "2021-05-23T22:38:43.356373Z",
     "start_time": "2021-05-23T22:38:42.428474Z"
    }
   },
   "outputs": [
    {
     "data": {
      "text/plain": [
       "['8,5',\n",
       " '8,5',\n",
       " '9,4',\n",
       " '8,9',\n",
       " '9,3',\n",
       " '9,2',\n",
       " '8,4',\n",
       " '8,5',\n",
       " '8,1',\n",
       " '9,4',\n",
       " '8,0',\n",
       " '8,6',\n",
       " '9,3',\n",
       " '9,0',\n",
       " '8,7',\n",
       " '9,6',\n",
       " '9,1',\n",
       " '9,0',\n",
       " '8,9']"
      ]
     },
     "execution_count": 80,
     "metadata": {},
     "output_type": "execute_result"
    }
   ],
   "source": [
    "[e.text.split()[-1] for e in driver.find_elements_by_css_selector('div.sc-bdfBwQ.jRrPAL > p')]"
   ]
  },
  {
   "cell_type": "code",
   "execution_count": 55,
   "id": "0c5c83cb",
   "metadata": {
    "ExecuteTime": {
     "end_time": "2021-05-23T20:21:12.158580Z",
     "start_time": "2021-05-23T20:21:12.100405Z"
    }
   },
   "outputs": [],
   "source": [
    "link = 'https://www.agoda.com/vi-vn/quang-trung-hotel/hotel/ho-chi-minh-city-vn.html?finalPriceView=1&isShowMobileAppPrice=false&cid=-1&numberOfBedrooms=&familyMode=false&adults=1&children=0&rooms=1&maxRooms=0&checkIn=2021-06-1&isCalendarCallout=false&childAges=&numberOfGuest=0&missingChildAges=false&travellerType=0&showReviewSubmissionEntry=false&currencyCode=VND&isFreeOccSearch=false&los=1&searchrequestid=e1e449a9-b73d-4ca4-9a40-02ea59be7da4'\n",
    "driver.execute_script(f'window.open(\"{link}\",\"_blank\");')"
   ]
  },
  {
   "cell_type": "code",
   "execution_count": 61,
   "id": "c7160a1c",
   "metadata": {
    "ExecuteTime": {
     "end_time": "2021-05-23T22:20:45.224254Z",
     "start_time": "2021-05-23T22:20:45.196046Z"
    }
   },
   "outputs": [
    {
     "data": {
      "text/plain": [
       "'Terracotta Hotel and Resort Dalat'"
      ]
     },
     "execution_count": 61,
     "metadata": {},
     "output_type": "execute_result"
    }
   ],
   "source": [
    "driver.find_element_by_css_selector('h3.PropertyCard__HotelName').text"
   ]
  },
  {
   "cell_type": "code",
   "execution_count": 58,
   "id": "0bc67690",
   "metadata": {
    "ExecuteTime": {
     "end_time": "2021-05-23T20:22:54.459787Z",
     "start_time": "2021-05-23T20:22:54.439053Z"
    }
   },
   "outputs": [],
   "source": [
    "driver.switch_to.window(driver.window_handles[0])"
   ]
  },
  {
   "cell_type": "code",
   "execution_count": 56,
   "id": "c2e133ca",
   "metadata": {
    "ExecuteTime": {
     "end_time": "2021-05-23T20:22:33.232423Z",
     "start_time": "2021-05-23T20:22:33.224451Z"
    }
   },
   "outputs": [],
   "source": [
    "driver.switch_to.window(driver.window_handles[0])"
   ]
  },
  {
   "cell_type": "code",
   "execution_count": 49,
   "id": "0bd8367c",
   "metadata": {
    "ExecuteTime": {
     "end_time": "2021-05-23T20:14:05.472838Z",
     "start_time": "2021-05-23T20:14:05.385555Z"
    }
   },
   "outputs": [],
   "source": [
    "driver.close()"
   ]
  },
  {
   "cell_type": "code",
   "execution_count": 18,
   "id": "077ca8bd",
   "metadata": {
    "ExecuteTime": {
     "end_time": "2021-05-23T19:40:00.625443Z",
     "start_time": "2021-05-23T19:40:00.475872Z"
    }
   },
   "outputs": [
    {
     "name": "stdout",
     "output_type": "stream",
     "text": [
      "Đưa đón sân bay\n",
      "Wi-Fi miễn phí trong tất cả các phòng!\n",
      "Dọn phòng hằng ngày\n",
      "Điều hòa\n",
      "Thang máy\n"
     ]
    }
   ],
   "source": [
    "for element in driver.find_elements_by_css_selector('p.FavFeatures__Text.FavFeatures__Text--small'):\n",
    "    print(element.text)"
   ]
  },
  {
   "cell_type": "code",
   "execution_count": 29,
   "id": "751dd4e4",
   "metadata": {
    "ExecuteTime": {
     "end_time": "2021-05-23T19:58:00.678880Z",
     "start_time": "2021-05-23T19:58:00.624166Z"
    }
   },
   "outputs": [
    {
     "data": {
      "text/plain": [
       "[]"
      ]
     },
     "execution_count": 29,
     "metadata": {},
     "output_type": "execute_result"
    }
   ],
   "source": [
    "[e.text for e in driver.find_elements_by_css_selector('li.poi-item')]"
   ]
  },
  {
   "cell_type": "code",
   "execution_count": 32,
   "id": "e47486e2",
   "metadata": {
    "ExecuteTime": {
     "end_time": "2021-05-23T19:58:31.388142Z",
     "start_time": "2021-05-23T19:58:31.327009Z"
    }
   },
   "outputs": [
    {
     "data": {
      "text/plain": [
       "'425'"
      ]
     },
     "execution_count": 32,
     "metadata": {},
     "output_type": "execute_result"
    }
   ],
   "source": [
    "driver.find_element_by_css_selector('div.review-basedon span.text').text[1:].split()[0]"
   ]
  },
  {
   "cell_type": "code",
   "execution_count": 28,
   "id": "75f7598b",
   "metadata": {
    "ExecuteTime": {
     "end_time": "2021-05-23T19:56:54.079613Z",
     "start_time": "2021-05-23T19:56:53.714517Z"
    }
   },
   "outputs": [
    {
     "data": {
      "text/plain": [
       "['Phòng xinh xắn và rộng, mình thấy rẻ hơn so với giá tiền phải trả, mình đặt phòng view langmark lun.',\n",
       " 'Khách sạn sạch sẽ, gần trung tâm di chuyển tới các địa điểm rất tiện. Nhân viên nói chung và các bảo vệ nói riêng cực kỳ nhiệt tình và thân thiện.',\n",
       " 'Phòng ốc sạch sẽ, gọn gàng Nhân viên thân thiện Vị trí tốt',\n",
       " 'Phòng cách âm kém, kệ treo khăn tắm bị bung, nhân viên đỗ xe hơi quá sát vật cản gây xước xe, dụng cụ bếp còn thiếu.',\n",
       " 'Phòng ốc mới, sạch sẽ thơm tho. Khu quận 2 khá yên tĩnh và an ninh.',\n",
       " 'Phòng rất Dơ, rác để trong hộc tủ rất hôi phải gọi người lên vứt, nhân viên dọn cũng không được sạch sẽ, bếp sờ dến đâu bụi dến đó Bụi phủ kín đầu giường và trên giường có nhiều con bọ và tóc, và vỏ bao cao su, chăn gối mùi rất cũ và ẩm Phòng rất ồn ào đến mức cánh cửa rung lên bởi công trường xunh quanh và quán bar dù đã đổi phòng. Ngày nhận phòng khách sạn sửa máy lạnh và bồn nước nên rất ồn và ko có nước dùng nhưng vẫn nhận khách. Nói chung là quá kinh khủng và cảm thấy bị lừa nên phải trả phòng sớm. Mọi người đừng bao giờ ở một nơi như vậy',\n",
       " 'Mọi thứ đều tốt. Khách sạn chuẩn bị phòng theo yêu cầu đặc biệt của khách',\n",
       " 'Phòng buổi tối hay có tiếng động ồn làm khó ngủ.',\n",
       " 'Phòng thoải mái, nhiều ánh sáng, đầy đủ tiện nghi cơ bản. Mình thích yên tĩnh nên rất phù hợp.',\n",
       " 'Chất lượng và visual phòng rất ổn nhưng cần cải thiện những vấn đề phát sinh sau đợt sửa chữa hiện tại: - Cách âm chưa tốt - Thiết bị nhà tắm bị bung, rớt - Mất nước - Thiếu thiết bị nấu ăn - Wifi yếu - Phòng không có policy và rules để khách xem và làm theo (smoking policy hoặc home rule) Bù lại thì nhân viên support rất nhiệt tình và phòng ở mức độ khá đẹp.',\n",
       " 'Phòng ốc sạch đẹp phong cách hiện đại đầy đủ tiện nghi',\n",
       " 'Sạch sẽ, có dọn phòng hàng ngày, tiện nghi đầy đủ và chất lượng. Đáng giá tiền.',\n",
       " 'yên tĩnh, nhân viên thân thiện, vị trí trung tâm',\n",
       " 'Mình đi công tác một ngày nên đã book phòng ở Mecozy. Khách sạn nằm ở khu trung tâm. Dễ tìm. Thuận tiện di chuyển',\n",
       " 'Khách sạn tuyệt đẹp, thiết kế khách sạn sang trọng, đẹp mắt. Mọi tiện nghi đều thoải mái, đồ dùng chất lượng.',\n",
       " 'Tiện nghi tốt, nhân viên nhiệt tình, giá cả rất ổn. Có dịp chắc chắn sẽ quay lại',\n",
       " 'Nhân viên thân thiện. Ksan sạch sẽ. Yên tĩnh.',\n",
       " 'Sạch sẽ nhân viên thân thiện. Không gian đẹp , phòng tk kiểu cổ điển rất đẹp và ấm cúng',\n",
       " 'Vị trí thuận tiện, giá cả hợp lý, nhân viên take care nhanh chóng và nhiệt tình',\n",
       " 'Chổ ở sạch sẽ, sang trọng. Trong khu ở yên tĩnh không ồn à, bước ra đường thì rất gần các nơi ăn uống']"
      ]
     },
     "execution_count": 28,
     "metadata": {},
     "output_type": "execute_result"
    }
   ],
   "source": [
    "[e.text for e in driver.find_elements_by_css_selector('p.Review-comment-bodyText')]"
   ]
  },
  {
   "cell_type": "code",
   "execution_count": 62,
   "id": "cc8ee5f0",
   "metadata": {
    "ExecuteTime": {
     "end_time": "2021-05-23T22:24:27.159995Z",
     "start_time": "2021-05-23T22:24:27.064954Z"
    }
   },
   "outputs": [],
   "source": [
    "driver.quit()"
   ]
  },
  {
   "cell_type": "code",
   "execution_count": 21,
   "id": "dc7a2f22",
   "metadata": {
    "ExecuteTime": {
     "end_time": "2021-05-23T14:40:09.604352Z",
     "start_time": "2021-05-23T14:39:50.158938Z"
    }
   },
   "outputs": [],
   "source": [
    "def scroll_down_page(driver, speed=100):\n",
    "    current_scroll_position, new_height= 0, 1\n",
    "    while current_scroll_position <= new_height:\n",
    "        current_scroll_position += speed\n",
    "        driver.execute_script(\"window.scrollTo(0, {});\".format(current_scroll_position))\n",
    "        new_height = driver.execute_script(\"return document.body.scrollHeight\")\n",
    "scroll_down_page(driver, 850)"
   ]
  },
  {
   "cell_type": "code",
   "execution_count": 18,
   "id": "34107937",
   "metadata": {
    "ExecuteTime": {
     "end_time": "2021-05-23T14:22:37.212739Z",
     "start_time": "2021-05-23T14:22:27.957497Z"
    }
   },
   "outputs": [
    {
     "name": "stdout",
     "output_type": "stream",
     "text": [
      "98\n",
      "https://www.agoda.com/vi-vn/grand-hotel-saigon/hotel/ho-chi-minh-city-vn.html?finalPriceView=1&isShowMobileAppPrice=false&cid=-1&numberOfBedrooms=&familyMode=false&adults=1&children=0&rooms=1&maxRooms=0&checkIn=2021-06-1&isCalendarCallout=false&childAges=&numberOfGuest=0&missingChildAges=false&travellerType=0&showReviewSubmissionEntry=false&currencyCode=VND&isFreeOccSearch=false&tspTypes=5,16&los=1&searchrequestid=801616be-9b3a-4dfc-91b5-6161559991a1\n",
      "https://www.agoda.com/vi-vn/mia-sai-gon/hotel/ho-chi-minh-city-vn.html?finalPriceView=1&isShowMobileAppPrice=false&cid=-1&numberOfBedrooms=&familyMode=false&adults=1&children=0&rooms=1&maxRooms=0&checkIn=2021-06-1&isCalendarCallout=false&childAges=&numberOfGuest=0&missingChildAges=false&travellerType=0&showReviewSubmissionEntry=false&currencyCode=VND&isFreeOccSearch=false&tspTypes=16&los=1&searchrequestid=801616be-9b3a-4dfc-91b5-6161559991a1\n",
      "https://www.agoda.com/vi-vn/hotel-majestic-saigon/hotel/ho-chi-minh-city-vn.html?finalPriceView=1&isShowMobileAppPrice=false&cid=-1&numberOfBedrooms=&familyMode=false&adults=1&children=0&rooms=1&maxRooms=0&checkIn=2021-06-1&isCalendarCallout=false&childAges=&numberOfGuest=0&missingChildAges=false&travellerType=0&showReviewSubmissionEntry=false&currencyCode=VND&isFreeOccSearch=false&tspTypes=16&los=1&searchrequestid=801616be-9b3a-4dfc-91b5-6161559991a1\n",
      "\n",
      "https://www.agoda.com/vi-vn/vinpearl-luxury-landmark-81/hotel/ho-chi-minh-city-vn.html?finalPriceView=1&isShowMobileAppPrice=false&cid=-1&numberOfBedrooms=&familyMode=false&adults=1&children=0&rooms=1&maxRooms=0&checkIn=2021-06-1&isCalendarCallout=false&childAges=&numberOfGuest=0&missingChildAges=false&travellerType=0&showReviewSubmissionEntry=false&currencyCode=VND&isFreeOccSearch=false&tspTypes=16&los=1&searchrequestid=801616be-9b3a-4dfc-91b5-6161559991a1\n",
      "https://www.agoda.com/vi-vn/rex-hotel-saigon/hotel/ho-chi-minh-city-vn.html?finalPriceView=1&isShowMobileAppPrice=false&cid=-1&numberOfBedrooms=&familyMode=false&adults=1&children=0&rooms=1&maxRooms=0&checkIn=2021-06-1&isCalendarCallout=false&childAges=&numberOfGuest=0&missingChildAges=false&travellerType=0&showReviewSubmissionEntry=false&currencyCode=VND&isFreeOccSearch=false&tspTypes=16&los=1&searchrequestid=801616be-9b3a-4dfc-91b5-6161559991a1\n",
      "https://www.agoda.com/vi-vn/the-myst-dong-khoi/hotel/ho-chi-minh-city-vn.html?finalPriceView=1&isShowMobileAppPrice=false&cid=-1&numberOfBedrooms=&familyMode=false&adults=1&children=0&rooms=1&maxRooms=0&checkIn=2021-06-1&isCalendarCallout=false&childAges=&numberOfGuest=0&missingChildAges=false&travellerType=0&showReviewSubmissionEntry=false&currencyCode=VND&isFreeOccSearch=false&tspTypes=16,8&los=1&searchrequestid=801616be-9b3a-4dfc-91b5-6161559991a1\n",
      "https://www.agoda.com/vi-vn/silverland-sakyo-hotel-spa/hotel/ho-chi-minh-city-vn.html?finalPriceView=1&isShowMobileAppPrice=false&cid=-1&numberOfBedrooms=&familyMode=false&adults=1&children=0&rooms=1&maxRooms=0&checkIn=2021-06-1&isCalendarCallout=false&childAges=&numberOfGuest=0&missingChildAges=false&travellerType=0&showReviewSubmissionEntry=false&currencyCode=VND&isFreeOccSearch=false&tspTypes=16,8&los=1&searchrequestid=801616be-9b3a-4dfc-91b5-6161559991a1\n",
      "https://www.agoda.com/vi-vn/silverland-charner/hotel/ho-chi-minh-city-vn.html?finalPriceView=1&isShowMobileAppPrice=false&cid=-1&numberOfBedrooms=&familyMode=false&adults=1&children=0&rooms=1&maxRooms=0&checkIn=2021-06-1&isCalendarCallout=false&childAges=&numberOfGuest=0&missingChildAges=false&travellerType=0&showReviewSubmissionEntry=false&currencyCode=VND&isFreeOccSearch=false&tspTypes=2,16&los=1&searchrequestid=801616be-9b3a-4dfc-91b5-6161559991a1\n",
      "https://www.agoda.com/vi-vn/lotte-legend-hotel-saigon/hotel/ho-chi-minh-city-vn.html?finalPriceView=1&isShowMobileAppPrice=false&cid=-1&numberOfBedrooms=&familyMode=false&adults=1&children=0&rooms=1&maxRooms=0&checkIn=2021-06-1&isCalendarCallout=false&childAges=&numberOfGuest=0&missingChildAges=false&travellerType=0&showReviewSubmissionEntry=false&currencyCode=VND&isFreeOccSearch=false&tspTypes=7,16,8&los=1&searchrequestid=801616be-9b3a-4dfc-91b5-6161559991a1\n",
      "https://www.agoda.com/vi-vn/muong-thanh-saigon-centre-hotel/hotel/ho-chi-minh-city-vn.html?finalPriceView=1&isShowMobileAppPrice=false&cid=-1&numberOfBedrooms=&familyMode=false&adults=1&children=0&rooms=1&maxRooms=0&checkIn=2021-06-1&isCalendarCallout=false&childAges=&numberOfGuest=0&missingChildAges=false&travellerType=0&showReviewSubmissionEntry=false&currencyCode=VND&isFreeOccSearch=false&tspTypes=16&los=1&searchrequestid=801616be-9b3a-4dfc-91b5-6161559991a1\n",
      "https://www.agoda.com/vi-vn/hotel-des-arts-saigon-mgallery-collection/hotel/ho-chi-minh-city-vn.html?finalPriceView=1&isShowMobileAppPrice=false&cid=-1&numberOfBedrooms=&familyMode=false&adults=1&children=0&rooms=1&maxRooms=0&checkIn=2021-06-1&isCalendarCallout=false&childAges=&numberOfGuest=0&missingChildAges=false&travellerType=0&showReviewSubmissionEntry=false&currencyCode=VND&isFreeOccSearch=false&tspTypes=16&los=1&searchrequestid=801616be-9b3a-4dfc-91b5-6161559991a1\n",
      "https://www.agoda.com/vi-vn/cozrum-homes-the-gallery-residence/hotel/ho-chi-minh-city-vn.html?finalPriceView=1&isShowMobileAppPrice=false&cid=-1&numberOfBedrooms=&familyMode=false&adults=1&children=0&rooms=1&maxRooms=0&checkIn=2021-06-1&isCalendarCallout=false&childAges=&numberOfGuest=0&missingChildAges=false&travellerType=0&showReviewSubmissionEntry=false&currencyCode=VND&isFreeOccSearch=false&tspTypes=9,16,-1&los=1&searchrequestid=801616be-9b3a-4dfc-91b5-6161559991a1\n",
      "\n",
      "https://www.agoda.com/vi-vn/central-palace-hotel/hotel/ho-chi-minh-city-vn.html?finalPriceView=1&isShowMobileAppPrice=false&cid=-1&numberOfBedrooms=&familyMode=false&adults=1&children=0&rooms=1&maxRooms=0&checkIn=2021-06-1&isCalendarCallout=false&childAges=&numberOfGuest=0&missingChildAges=false&travellerType=0&showReviewSubmissionEntry=false&currencyCode=VND&isFreeOccSearch=false&tspTypes=9,16,8,-1&los=1&searchrequestid=801616be-9b3a-4dfc-91b5-6161559991a1\n",
      "https://www.agoda.com/vi-vn/silverland-yen-hotel/hotel/ho-chi-minh-city-vn.html?finalPriceView=1&isShowMobileAppPrice=false&cid=-1&numberOfBedrooms=&familyMode=false&adults=1&children=0&rooms=1&maxRooms=0&checkIn=2021-06-1&isCalendarCallout=false&childAges=&numberOfGuest=0&missingChildAges=false&travellerType=0&showReviewSubmissionEntry=false&currencyCode=VND&isFreeOccSearch=false&tspTypes=2,16,-1&los=1&searchrequestid=801616be-9b3a-4dfc-91b5-6161559991a1\n",
      "https://www.agoda.com/vi-vn/muong-thanh-luxury-saigon-hotel/hotel/ho-chi-minh-city-vn.html?finalPriceView=1&isShowMobileAppPrice=false&cid=-1&numberOfBedrooms=&familyMode=false&adults=1&children=0&rooms=1&maxRooms=0&checkIn=2021-06-1&isCalendarCallout=false&childAges=&numberOfGuest=0&missingChildAges=false&travellerType=0&showReviewSubmissionEntry=false&currencyCode=VND&isFreeOccSearch=false&tspTypes=1,16&los=1&searchrequestid=801616be-9b3a-4dfc-91b5-6161559991a1\n",
      "https://www.agoda.com/vi-vn/pullman-saigon-centre-hotel/hotel/ho-chi-minh-city-vn.html?finalPriceView=1&isShowMobileAppPrice=false&cid=-1&numberOfBedrooms=&familyMode=false&adults=1&children=0&rooms=1&maxRooms=0&checkIn=2021-06-1&isCalendarCallout=false&childAges=&numberOfGuest=0&missingChildAges=false&travellerType=0&showReviewSubmissionEntry=false&currencyCode=VND&isFreeOccSearch=false&tspTypes=9,16&los=1&searchrequestid=801616be-9b3a-4dfc-91b5-6161559991a1\n",
      "https://www.agoda.com/vi-vn/caravelle-saigon-hotel/hotel/ho-chi-minh-city-vn.html?finalPriceView=1&isShowMobileAppPrice=false&cid=-1&numberOfBedrooms=&familyMode=false&adults=1&children=0&rooms=1&maxRooms=0&checkIn=2021-06-1&isCalendarCallout=false&childAges=&numberOfGuest=0&missingChildAges=false&travellerType=0&showReviewSubmissionEntry=false&currencyCode=VND&isFreeOccSearch=false&tspTypes=16&los=1&searchrequestid=801616be-9b3a-4dfc-91b5-6161559991a1\n",
      "https://www.agoda.com/vi-vn/hotel-nikko-saigon/hotel/ho-chi-minh-city-vn.html?finalPriceView=1&isShowMobileAppPrice=false&cid=-1&numberOfBedrooms=&familyMode=false&adults=1&children=0&rooms=1&maxRooms=0&checkIn=2021-06-1&isCalendarCallout=false&childAges=&numberOfGuest=0&missingChildAges=false&travellerType=0&showReviewSubmissionEntry=false&currencyCode=VND&isFreeOccSearch=false&tspTypes=15,8&los=1&searchrequestid=801616be-9b3a-4dfc-91b5-6161559991a1\n",
      "https://www.agoda.com/vi-vn/cozrum-homes-premier-residence-h9393788/hotel/ho-chi-minh-city-vn.html?finalPriceView=1&isShowMobileAppPrice=false&cid=-1&numberOfBedrooms=&familyMode=false&adults=1&children=0&rooms=1&maxRooms=0&checkIn=2021-06-1&isCalendarCallout=false&childAges=&numberOfGuest=0&missingChildAges=false&travellerType=0&showReviewSubmissionEntry=false&currencyCode=VND&isFreeOccSearch=false&tspTypes=17,4,16,-1&los=1&searchrequestid=801616be-9b3a-4dfc-91b5-6161559991a1\n",
      "https://www.agoda.com/vi-vn/edenstar-saigon-hotel-spa/hotel/ho-chi-minh-city-vn.html?finalPriceView=1&isShowMobileAppPrice=false&cid=-1&numberOfBedrooms=&familyMode=false&adults=1&children=0&rooms=1&maxRooms=0&checkIn=2021-06-1&isCalendarCallout=false&childAges=&numberOfGuest=0&missingChildAges=false&travellerType=0&showReviewSubmissionEntry=false&currencyCode=VND&isFreeOccSearch=false&tspTypes=16,8,-1&los=1&searchrequestid=801616be-9b3a-4dfc-91b5-6161559991a1\n",
      "https://www.agoda.com/vi-vn/la-vela-saigon-hotel/hotel/ho-chi-minh-city-vn.html?finalPriceView=1&isShowMobileAppPrice=false&cid=-1&numberOfBedrooms=&familyMode=false&adults=1&children=0&rooms=1&maxRooms=0&checkIn=2021-06-1&isCalendarCallout=false&childAges=&numberOfGuest=0&missingChildAges=false&travellerType=0&showReviewSubmissionEntry=false&currencyCode=VND&isFreeOccSearch=false&tspTypes=16,-1&los=1&searchrequestid=801616be-9b3a-4dfc-91b5-6161559991a1\n",
      "\n",
      "https://www.agoda.com/vi-vn/mecozy-apartel/hotel/ho-chi-minh-city-vn.html?finalPriceView=1&isShowMobileAppPrice=false&cid=-1&numberOfBedrooms=&familyMode=false&adults=1&children=0&rooms=1&maxRooms=0&checkIn=2021-06-1&isCalendarCallout=false&childAges=&numberOfGuest=0&missingChildAges=false&travellerType=0&showReviewSubmissionEntry=false&currencyCode=VND&isFreeOccSearch=false&tspTypes=1,16&los=1&searchrequestid=801616be-9b3a-4dfc-91b5-6161559991a1\n",
      "https://www.agoda.com/vi-vn/the-chill-suites-city-center/hotel/ho-chi-minh-city-vn.html?finalPriceView=1&isShowMobileAppPrice=false&cid=-1&numberOfBedrooms=&familyMode=false&adults=1&children=0&rooms=1&maxRooms=0&checkIn=2021-06-1&isCalendarCallout=false&childAges=&numberOfGuest=0&missingChildAges=false&travellerType=0&showReviewSubmissionEntry=false&currencyCode=VND&isFreeOccSearch=false&tspTypes=3,16,8,-1&los=1&searchrequestid=801616be-9b3a-4dfc-91b5-6161559991a1\n",
      "https://www.agoda.com/vi-vn/saigon-charm-hotel/hotel/ho-chi-minh-city-vn.html?finalPriceView=1&isShowMobileAppPrice=false&cid=-1&numberOfBedrooms=&familyMode=false&adults=1&children=0&rooms=1&maxRooms=0&checkIn=2021-06-1&isCalendarCallout=false&childAges=&numberOfGuest=0&missingChildAges=false&travellerType=0&showReviewSubmissionEntry=false&currencyCode=VND&isFreeOccSearch=false&tspTypes=9&los=1&searchrequestid=801616be-9b3a-4dfc-91b5-6161559991a1\n",
      "https://www.agoda.com/vi-vn/liberty-central-saigon-citypoint-hotel/hotel/ho-chi-minh-city-vn.html?finalPriceView=1&isShowMobileAppPrice=false&cid=-1&numberOfBedrooms=&familyMode=false&adults=1&children=0&rooms=1&maxRooms=0&checkIn=2021-06-1&isCalendarCallout=false&childAges=&numberOfGuest=0&missingChildAges=false&travellerType=0&showReviewSubmissionEntry=false&currencyCode=VND&isFreeOccSearch=false&tspTypes=16&los=1&searchrequestid=801616be-9b3a-4dfc-91b5-6161559991a1\n",
      "https://www.agoda.com/vi-vn/fusion-suites-saigon/hotel/ho-chi-minh-city-vn.html?finalPriceView=1&isShowMobileAppPrice=false&cid=-1&numberOfBedrooms=&familyMode=false&adults=1&children=0&rooms=1&maxRooms=0&checkIn=2021-06-1&isCalendarCallout=false&childAges=&numberOfGuest=0&missingChildAges=false&travellerType=0&showReviewSubmissionEntry=false&currencyCode=VND&isFreeOccSearch=false&tspTypes=16&los=1&searchrequestid=801616be-9b3a-4dfc-91b5-6161559991a1\n",
      "https://www.agoda.com/vi-vn/sedona-suites-ho-chi-minh-city_14/hotel/ho-chi-minh-city-vn.html?finalPriceView=1&isShowMobileAppPrice=false&cid=-1&numberOfBedrooms=&familyMode=false&adults=1&children=0&rooms=1&maxRooms=0&checkIn=2021-06-1&isCalendarCallout=false&childAges=&numberOfGuest=0&missingChildAges=false&travellerType=0&showReviewSubmissionEntry=false&currencyCode=VND&isFreeOccSearch=false&tspTypes=16&los=1&searchrequestid=801616be-9b3a-4dfc-91b5-6161559991a1\n",
      "https://www.agoda.com/vi-vn/meraki-hotel/hotel/ho-chi-minh-city-vn.html?finalPriceView=1&isShowMobileAppPrice=false&cid=-1&numberOfBedrooms=&familyMode=false&adults=1&children=0&rooms=1&maxRooms=0&checkIn=2021-06-1&isCalendarCallout=false&childAges=&numberOfGuest=0&missingChildAges=false&travellerType=0&showReviewSubmissionEntry=false&currencyCode=VND&isFreeOccSearch=false&tspTypes=16&los=1&searchrequestid=801616be-9b3a-4dfc-91b5-6161559991a1\n",
      "https://www.agoda.com/vi-vn/alagon-zen-hotel-spa/hotel/ho-chi-minh-city-vn.html?finalPriceView=1&isShowMobileAppPrice=false&cid=-1&numberOfBedrooms=&familyMode=false&adults=1&children=0&rooms=1&maxRooms=0&checkIn=2021-06-1&isCalendarCallout=false&childAges=&numberOfGuest=0&missingChildAges=false&travellerType=0&showReviewSubmissionEntry=false&currencyCode=VND&isFreeOccSearch=false&tspTypes=2,16,-1&los=1&searchrequestid=801616be-9b3a-4dfc-91b5-6161559991a1\n",
      "https://www.agoda.com/vi-vn/chill-suites_2/hotel/ho-chi-minh-city-vn.html?finalPriceView=1&isShowMobileAppPrice=false&cid=-1&numberOfBedrooms=&familyMode=false&adults=1&children=0&rooms=1&maxRooms=0&checkIn=2021-06-1&isCalendarCallout=false&childAges=&numberOfGuest=0&missingChildAges=false&travellerType=0&showReviewSubmissionEntry=false&currencyCode=VND&isFreeOccSearch=false&tspTypes=9,16,8&los=1&searchrequestid=801616be-9b3a-4dfc-91b5-6161559991a1\n",
      "\n",
      "https://www.agoda.com/vi-vn/intercontinental-saigon/hotel/ho-chi-minh-city-vn.html?finalPriceView=1&isShowMobileAppPrice=false&cid=-1&numberOfBedrooms=&familyMode=false&adults=1&children=0&rooms=1&maxRooms=0&checkIn=2021-06-1&isCalendarCallout=false&childAges=&numberOfGuest=0&missingChildAges=false&travellerType=0&showReviewSubmissionEntry=false&currencyCode=VND&isFreeOccSearch=false&tspTypes=16&los=1&searchrequestid=801616be-9b3a-4dfc-91b5-6161559991a1\n",
      "https://www.agoda.com/vi-vn/silverland-jolie-hotel-spa/hotel/ho-chi-minh-city-vn.html?finalPriceView=1&isShowMobileAppPrice=false&cid=-1&numberOfBedrooms=&familyMode=false&adults=1&children=0&rooms=1&maxRooms=0&checkIn=2021-06-1&isCalendarCallout=false&childAges=&numberOfGuest=0&missingChildAges=false&travellerType=0&showReviewSubmissionEntry=false&currencyCode=VND&isFreeOccSearch=false&tspTypes=16,-1&los=1&searchrequestid=801616be-9b3a-4dfc-91b5-6161559991a1\n",
      "https://www.agoda.com/vi-vn/au-lac-legend-hotel/hotel/ho-chi-minh-city-vn.html?finalPriceView=1&isShowMobileAppPrice=false&cid=-1&numberOfBedrooms=&familyMode=false&adults=1&children=0&rooms=1&maxRooms=0&checkIn=2021-06-1&isCalendarCallout=false&childAges=&numberOfGuest=0&missingChildAges=false&travellerType=0&showReviewSubmissionEntry=false&currencyCode=VND&isFreeOccSearch=false&tspTypes=16&los=1&searchrequestid=801616be-9b3a-4dfc-91b5-6161559991a1\n",
      "https://www.agoda.com/vi-vn/sunrise-central-hotel/hotel/ho-chi-minh-city-vn.html?finalPriceView=1&isShowMobileAppPrice=false&cid=-1&numberOfBedrooms=&familyMode=false&adults=1&children=0&rooms=1&maxRooms=0&checkIn=2021-06-1&isCalendarCallout=false&childAges=&numberOfGuest=0&missingChildAges=false&travellerType=0&showReviewSubmissionEntry=false&currencyCode=VND&isFreeOccSearch=false&tspTypes=6,16,8&los=1&searchrequestid=801616be-9b3a-4dfc-91b5-6161559991a1\n",
      "https://www.agoda.com/vi-vn/hotel-continental-saigon/hotel/ho-chi-minh-city-vn.html?finalPriceView=1&isShowMobileAppPrice=false&cid=-1&numberOfBedrooms=&familyMode=false&adults=1&children=0&rooms=1&maxRooms=0&checkIn=2021-06-1&isCalendarCallout=false&childAges=&numberOfGuest=0&missingChildAges=false&travellerType=0&showReviewSubmissionEntry=false&currencyCode=VND&isFreeOccSearch=false&tspTypes=16&los=1&searchrequestid=801616be-9b3a-4dfc-91b5-6161559991a1\n",
      "https://www.agoda.com/vi-vn/villa-song-saigon-saigon-river-villa/hotel/ho-chi-minh-city-vn.html?finalPriceView=1&isShowMobileAppPrice=false&cid=-1&numberOfBedrooms=&familyMode=false&adults=1&children=0&rooms=1&maxRooms=0&checkIn=2021-06-1&isCalendarCallout=false&childAges=&numberOfGuest=0&missingChildAges=false&travellerType=0&showReviewSubmissionEntry=false&currencyCode=VND&isFreeOccSearch=false&tspTypes=16&los=1&searchrequestid=801616be-9b3a-4dfc-91b5-6161559991a1\n",
      "https://www.agoda.com/vi-vn/icon-saigon-luxury-design-hotel/hotel/ho-chi-minh-city-vn.html?finalPriceView=1&isShowMobileAppPrice=false&cid=-1&numberOfBedrooms=&familyMode=false&adults=1&children=0&rooms=1&maxRooms=0&checkIn=2021-06-1&isCalendarCallout=false&childAges=&numberOfGuest=0&missingChildAges=false&travellerType=0&showReviewSubmissionEntry=false&currencyCode=VND&isFreeOccSearch=false&tspTypes=2,16&los=1&searchrequestid=801616be-9b3a-4dfc-91b5-6161559991a1\n",
      "https://www.agoda.com/vi-vn/hotel-equatorial-ho-chi-minh-city/hotel/ho-chi-minh-city-vn.html?finalPriceView=1&isShowMobileAppPrice=false&cid=-1&numberOfBedrooms=&familyMode=false&adults=1&children=0&rooms=1&maxRooms=0&checkIn=2021-06-1&isCalendarCallout=false&childAges=&numberOfGuest=0&missingChildAges=false&travellerType=0&showReviewSubmissionEntry=false&currencyCode=VND&isFreeOccSearch=false&tspTypes=9&los=1&searchrequestid=801616be-9b3a-4dfc-91b5-6161559991a1\n",
      "https://www.agoda.com/vi-vn/mai-house-saigon-hotel/hotel/ho-chi-minh-city-vn.html?finalPriceView=1&isShowMobileAppPrice=false&cid=-1&numberOfBedrooms=&familyMode=false&adults=1&children=0&rooms=1&maxRooms=0&checkIn=2021-06-1&isCalendarCallout=false&childAges=&numberOfGuest=0&missingChildAges=false&travellerType=0&showReviewSubmissionEntry=false&currencyCode=VND&isFreeOccSearch=false&tspTypes=9,16&los=1&searchrequestid=801616be-9b3a-4dfc-91b5-6161559991a1\n",
      "https://www.agoda.com/vi-vn/maison-de-camille-boutique-hotel_2/hotel/ho-chi-minh-city-vn.html?finalPriceView=1&isShowMobileAppPrice=false&cid=-1&numberOfBedrooms=&familyMode=false&adults=1&children=0&rooms=1&maxRooms=0&checkIn=2021-06-1&isCalendarCallout=false&childAges=&numberOfGuest=0&missingChildAges=false&travellerType=0&showReviewSubmissionEntry=false&currencyCode=VND&isFreeOccSearch=false&tspTypes=1&los=1&searchrequestid=801616be-9b3a-4dfc-91b5-6161559991a1\n",
      "https://www.agoda.com/vi-vn/cozrum-lux-hotel/hotel/ho-chi-minh-city-vn.html?finalPriceView=1&isShowMobileAppPrice=false&cid=-1&numberOfBedrooms=&familyMode=false&adults=1&children=0&rooms=1&maxRooms=0&checkIn=2021-06-1&isCalendarCallout=false&childAges=&numberOfGuest=0&missingChildAges=false&travellerType=0&showReviewSubmissionEntry=false&currencyCode=VND&isFreeOccSearch=false&tspTypes=9,16,8,-1&los=1&searchrequestid=801616be-9b3a-4dfc-91b5-6161559991a1\n",
      "https://www.agoda.com/vi-vn/sofitel-saigon-plaza-hotel/hotel/ho-chi-minh-city-vn.html?finalPriceView=1&isShowMobileAppPrice=false&cid=-1&numberOfBedrooms=&familyMode=false&adults=1&children=0&rooms=1&maxRooms=0&checkIn=2021-06-1&isCalendarCallout=false&childAges=&numberOfGuest=0&missingChildAges=false&travellerType=0&showReviewSubmissionEntry=false&currencyCode=VND&isFreeOccSearch=false&tspTypes=16&los=1&searchrequestid=801616be-9b3a-4dfc-91b5-6161559991a1\n",
      "https://www.agoda.com/vi-vn/quy-hung-hotel/hotel/ho-chi-minh-city-vn.html?finalPriceView=1&isShowMobileAppPrice=false&cid=-1&numberOfBedrooms=&familyMode=false&adults=1&children=0&rooms=1&maxRooms=0&checkIn=2021-06-1&isCalendarCallout=false&childAges=&numberOfGuest=0&missingChildAges=false&travellerType=0&showReviewSubmissionEntry=false&currencyCode=VND&isFreeOccSearch=false&los=1&searchrequestid=801616be-9b3a-4dfc-91b5-6161559991a1\n",
      "https://www.agoda.com/vi-vn/harmony-saigon-hotel-spa/hotel/ho-chi-minh-city-vn.html?finalPriceView=1&isShowMobileAppPrice=false&cid=-1&numberOfBedrooms=&familyMode=false&adults=1&children=0&rooms=1&maxRooms=0&checkIn=2021-06-1&isCalendarCallout=false&childAges=&numberOfGuest=0&missingChildAges=false&travellerType=0&showReviewSubmissionEntry=false&currencyCode=VND&isFreeOccSearch=false&tspTypes=16&los=1&searchrequestid=801616be-9b3a-4dfc-91b5-6161559991a1\n",
      "https://www.agoda.com/vi-vn/palace-hotel-saigon/hotel/ho-chi-minh-city-vn.html?finalPriceView=1&isShowMobileAppPrice=false&cid=-1&numberOfBedrooms=&familyMode=false&adults=1&children=0&rooms=1&maxRooms=0&checkIn=2021-06-1&isCalendarCallout=false&childAges=&numberOfGuest=0&missingChildAges=false&travellerType=0&showReviewSubmissionEntry=false&currencyCode=VND&isFreeOccSearch=false&tspTypes=16&los=1&searchrequestid=801616be-9b3a-4dfc-91b5-6161559991a1\n",
      "https://www.agoda.com/vi-vn/the-reverie-saigon/hotel/ho-chi-minh-city-vn.html?finalPriceView=1&isShowMobileAppPrice=false&cid=-1&numberOfBedrooms=&familyMode=false&adults=1&children=0&rooms=1&maxRooms=0&checkIn=2021-06-1&isCalendarCallout=false&childAges=&numberOfGuest=0&missingChildAges=false&travellerType=0&showReviewSubmissionEntry=false&currencyCode=VND&isFreeOccSearch=false&tspTypes=16&los=1&searchrequestid=193d1d82-9aaf-442b-a677-d1f82cd23eac\n",
      "https://www.agoda.com/vi-vn/sheraton-saigon-hotel-towers_12/hotel/ho-chi-minh-city-vn.html?finalPriceView=1&isShowMobileAppPrice=false&cid=-1&numberOfBedrooms=&familyMode=false&adults=1&children=0&rooms=1&maxRooms=0&checkIn=2021-06-1&isCalendarCallout=false&childAges=&numberOfGuest=0&missingChildAges=false&travellerType=0&showReviewSubmissionEntry=false&currencyCode=VND&isFreeOccSearch=false&tspTypes=16&los=1&searchrequestid=193d1d82-9aaf-442b-a677-d1f82cd23eac\n",
      "https://www.agoda.com/vi-vn/bonita-signature-btx-hotel/hotel/ho-chi-minh-city-vn.html?finalPriceView=1&isShowMobileAppPrice=false&cid=-1&numberOfBedrooms=&familyMode=false&adults=1&children=0&rooms=1&maxRooms=0&checkIn=2021-06-1&isCalendarCallout=false&childAges=&numberOfGuest=0&missingChildAges=false&travellerType=0&showReviewSubmissionEntry=false&currencyCode=VND&isFreeOccSearch=false&tspTypes=16,-1&los=1&searchrequestid=193d1d82-9aaf-442b-a677-d1f82cd23eac\n",
      "\n",
      "https://www.agoda.com/vi-vn/hoa-phat-hotel-apartment/hotel/ho-chi-minh-city-vn.html?finalPriceView=1&isShowMobileAppPrice=false&cid=-1&numberOfBedrooms=&familyMode=false&adults=1&children=0&rooms=1&maxRooms=0&checkIn=2021-06-1&isCalendarCallout=false&childAges=&numberOfGuest=0&missingChildAges=false&travellerType=0&showReviewSubmissionEntry=false&currencyCode=VND&isFreeOccSearch=false&tspTypes=-1&los=1&searchrequestid=193d1d82-9aaf-442b-a677-d1f82cd23eac\n",
      "https://www.agoda.com/vi-vn/roseland-centa-hotel-spa/hotel/ho-chi-minh-city-vn.html?finalPriceView=1&isShowMobileAppPrice=false&cid=-1&numberOfBedrooms=&familyMode=false&adults=1&children=0&rooms=1&maxRooms=0&checkIn=2021-06-1&isCalendarCallout=false&childAges=&numberOfGuest=0&missingChildAges=false&travellerType=0&showReviewSubmissionEntry=false&currencyCode=VND&isFreeOccSearch=false&tspTypes=9,16,-1&los=1&searchrequestid=193d1d82-9aaf-442b-a677-d1f82cd23eac\n",
      "https://www.agoda.com/vi-vn/alagon-plus-hotel-and-spa/hotel/ho-chi-minh-city-vn.html?finalPriceView=1&isShowMobileAppPrice=false&cid=-1&numberOfBedrooms=&familyMode=false&adults=1&children=0&rooms=1&maxRooms=0&checkIn=2021-06-1&isCalendarCallout=false&childAges=&numberOfGuest=0&missingChildAges=false&travellerType=0&showReviewSubmissionEntry=false&currencyCode=VND&isFreeOccSearch=false&tspTypes=2,16&los=1&searchrequestid=193d1d82-9aaf-442b-a677-d1f82cd23eac\n",
      "https://www.agoda.com/vi-vn/saigon-airport-bluesky-serviced-apartment/hotel/ho-chi-minh-city-vn.html?finalPriceView=1&isShowMobileAppPrice=false&cid=-1&numberOfBedrooms=&familyMode=false&adults=1&children=0&rooms=1&maxRooms=0&checkIn=2021-06-1&isCalendarCallout=false&childAges=&numberOfGuest=0&missingChildAges=false&travellerType=0&showReviewSubmissionEntry=false&currencyCode=VND&isFreeOccSearch=false&tspTypes=16&los=1&searchrequestid=193d1d82-9aaf-442b-a677-d1f82cd23eac\n",
      "https://www.agoda.com/vi-vn/aristo-saigon-hotel/hotel/ho-chi-minh-city-vn.html?finalPriceView=1&isShowMobileAppPrice=false&cid=-1&numberOfBedrooms=&familyMode=false&adults=1&children=0&rooms=1&maxRooms=0&checkIn=2021-06-1&isCalendarCallout=false&childAges=&numberOfGuest=0&missingChildAges=false&travellerType=0&showReviewSubmissionEntry=false&currencyCode=VND&isFreeOccSearch=false&tspTypes=9,16&los=1&searchrequestid=193d1d82-9aaf-442b-a677-d1f82cd23eac\n",
      "https://www.agoda.com/vi-vn/tan-son-nhat-saigon-hotel/hotel/ho-chi-minh-city-vn.html?finalPriceView=1&isShowMobileAppPrice=false&cid=-1&numberOfBedrooms=&familyMode=false&adults=1&children=0&rooms=1&maxRooms=0&checkIn=2021-06-1&isCalendarCallout=false&childAges=&numberOfGuest=0&missingChildAges=false&travellerType=0&showReviewSubmissionEntry=false&currencyCode=VND&isFreeOccSearch=false&tspTypes=5&los=1&searchrequestid=193d1d82-9aaf-442b-a677-d1f82cd23eac\n",
      "https://www.agoda.com/vi-vn/oscar-saigon-hotel/hotel/ho-chi-minh-city-vn.html?finalPriceView=1&isShowMobileAppPrice=false&cid=-1&numberOfBedrooms=&familyMode=false&adults=1&children=0&rooms=1&maxRooms=0&checkIn=2021-06-1&isCalendarCallout=false&childAges=&numberOfGuest=0&missingChildAges=false&travellerType=0&showReviewSubmissionEntry=false&currencyCode=VND&isFreeOccSearch=false&tspTypes=2,16&los=1&searchrequestid=193d1d82-9aaf-442b-a677-d1f82cd23eac\n",
      "https://www.agoda.com/vi-vn/saigon-garden-hill/hotel/ho-chi-minh-city-vn.html?finalPriceView=1&isShowMobileAppPrice=false&cid=-1&numberOfBedrooms=&familyMode=false&adults=1&children=0&rooms=1&maxRooms=0&checkIn=2021-06-1&isCalendarCallout=false&childAges=&numberOfGuest=0&missingChildAges=false&travellerType=0&showReviewSubmissionEntry=false&currencyCode=VND&isFreeOccSearch=false&tspTypes=16&los=1&searchrequestid=193d1d82-9aaf-442b-a677-d1f82cd23eac\n",
      "https://www.agoda.com/vi-vn/victory-hotel-saigon/hotel/ho-chi-minh-city-vn.html?finalPriceView=1&isShowMobileAppPrice=false&cid=-1&numberOfBedrooms=&familyMode=false&adults=1&children=0&rooms=1&maxRooms=0&checkIn=2021-06-1&isCalendarCallout=false&childAges=&numberOfGuest=0&missingChildAges=false&travellerType=0&showReviewSubmissionEntry=false&currencyCode=VND&isFreeOccSearch=false&los=1&searchrequestid=193d1d82-9aaf-442b-a677-d1f82cd23eac\n",
      "\n",
      "https://www.agoda.com/vi-vn/vien-dong-hotel/hotel/ho-chi-minh-city-vn.html?finalPriceView=1&isShowMobileAppPrice=false&cid=-1&numberOfBedrooms=&familyMode=false&adults=1&children=0&rooms=1&maxRooms=0&checkIn=2021-06-1&isCalendarCallout=false&childAges=&numberOfGuest=0&missingChildAges=false&travellerType=0&showReviewSubmissionEntry=false&currencyCode=VND&isFreeOccSearch=false&tspTypes=16&los=1&searchrequestid=193d1d82-9aaf-442b-a677-d1f82cd23eac\n",
      "https://www.agoda.com/vi-vn/saigon-prince-hotel/hotel/ho-chi-minh-city-vn.html?finalPriceView=1&isShowMobileAppPrice=false&cid=-1&numberOfBedrooms=&familyMode=false&adults=1&children=0&rooms=1&maxRooms=0&checkIn=2021-06-1&isCalendarCallout=false&childAges=&numberOfGuest=0&missingChildAges=false&travellerType=0&showReviewSubmissionEntry=false&currencyCode=VND&isFreeOccSearch=false&tspTypes=16&los=1&searchrequestid=193d1d82-9aaf-442b-a677-d1f82cd23eac\n",
      "https://www.agoda.com/vi-vn/m-boutique-hotel/hotel/ho-chi-minh-city-vn.html?finalPriceView=1&isShowMobileAppPrice=false&cid=-1&numberOfBedrooms=&familyMode=false&adults=1&children=0&rooms=1&maxRooms=0&checkIn=2021-06-1&isCalendarCallout=false&childAges=&numberOfGuest=0&missingChildAges=false&travellerType=0&showReviewSubmissionEntry=false&currencyCode=VND&isFreeOccSearch=false&tspTypes=16&los=1&searchrequestid=193d1d82-9aaf-442b-a677-d1f82cd23eac\n",
      "https://www.agoda.com/vi-vn/lucky-star-hotel-146-nguyen-trai/hotel/ho-chi-minh-city-vn.html?finalPriceView=1&isShowMobileAppPrice=false&cid=-1&numberOfBedrooms=&familyMode=false&adults=1&children=0&rooms=1&maxRooms=0&checkIn=2021-06-1&isCalendarCallout=false&childAges=&numberOfGuest=0&missingChildAges=false&travellerType=0&showReviewSubmissionEntry=false&currencyCode=VND&isFreeOccSearch=false&tspTypes=16,-1&los=1&searchrequestid=193d1d82-9aaf-442b-a677-d1f82cd23eac\n",
      "https://www.agoda.com/vi-vn/bong-sen-hotel-saigon/hotel/ho-chi-minh-city-vn.html?finalPriceView=1&isShowMobileAppPrice=false&cid=-1&numberOfBedrooms=&familyMode=false&adults=1&children=0&rooms=1&maxRooms=0&checkIn=2021-06-1&isCalendarCallout=false&childAges=&numberOfGuest=0&missingChildAges=false&travellerType=0&showReviewSubmissionEntry=false&currencyCode=VND&isFreeOccSearch=false&tspTypes=16&los=1&searchrequestid=193d1d82-9aaf-442b-a677-d1f82cd23eac\n",
      "https://www.agoda.com/vi-vn/golda-hotel/hotel/ho-chi-minh-city-vn.html?finalPriceView=1&isShowMobileAppPrice=false&cid=-1&numberOfBedrooms=&familyMode=false&adults=1&children=0&rooms=1&maxRooms=0&checkIn=2021-06-1&isCalendarCallout=false&childAges=&numberOfGuest=0&missingChildAges=false&travellerType=0&showReviewSubmissionEntry=false&currencyCode=VND&isFreeOccSearch=false&tspTypes=16&los=1&searchrequestid=193d1d82-9aaf-442b-a677-d1f82cd23eac\n",
      "https://www.agoda.com/vi-vn/universe-suites-h9101256/hotel/ho-chi-minh-city-vn.html?finalPriceView=1&isShowMobileAppPrice=false&cid=-1&numberOfBedrooms=&familyMode=false&adults=1&children=0&rooms=1&maxRooms=0&checkIn=2021-06-1&isCalendarCallout=false&childAges=&numberOfGuest=0&missingChildAges=false&travellerType=0&showReviewSubmissionEntry=false&currencyCode=VND&isFreeOccSearch=false&tspTypes=6,16&los=1&searchrequestid=193d1d82-9aaf-442b-a677-d1f82cd23eac\n",
      "https://www.agoda.com/vi-vn/the-art-sunshine-apartment/hotel/ho-chi-minh-city-vn.html?finalPriceView=1&isShowMobileAppPrice=false&cid=-1&numberOfBedrooms=&familyMode=false&adults=1&children=0&rooms=1&maxRooms=0&checkIn=2021-06-1&isCalendarCallout=false&childAges=&numberOfGuest=0&missingChildAges=false&travellerType=0&showReviewSubmissionEntry=false&currencyCode=VND&isFreeOccSearch=false&tspTypes=1,16&los=1&searchrequestid=193d1d82-9aaf-442b-a677-d1f82cd23eac\n",
      "https://www.agoda.com/vi-vn/cozrum-homes-ambera-house/hotel/ho-chi-minh-city-vn.html?finalPriceView=1&isShowMobileAppPrice=false&cid=-1&numberOfBedrooms=&familyMode=false&adults=1&children=0&rooms=1&maxRooms=0&checkIn=2021-06-1&isCalendarCallout=false&childAges=&numberOfGuest=0&missingChildAges=false&travellerType=0&showReviewSubmissionEntry=false&currencyCode=VND&isFreeOccSearch=false&tspTypes=1,-1&los=1&searchrequestid=193d1d82-9aaf-442b-a677-d1f82cd23eac\n",
      "\n",
      "https://www.agoda.com/vi-vn/cozrum-homes-may-s-house/hotel/ho-chi-minh-city-vn.html?finalPriceView=1&isShowMobileAppPrice=false&cid=-1&numberOfBedrooms=&familyMode=false&adults=1&children=0&rooms=1&maxRooms=0&checkIn=2021-06-1&isCalendarCallout=false&childAges=&numberOfGuest=0&missingChildAges=false&travellerType=0&showReviewSubmissionEntry=false&currencyCode=VND&isFreeOccSearch=false&tspTypes=4,16,-1&los=1&searchrequestid=193d1d82-9aaf-442b-a677-d1f82cd23eac\n",
      "https://www.agoda.com/vi-vn/la-memoria/hotel/ho-chi-minh-city-vn.html?finalPriceView=1&isShowMobileAppPrice=false&cid=-1&numberOfBedrooms=&familyMode=false&adults=1&children=0&rooms=1&maxRooms=0&checkIn=2021-06-1&isCalendarCallout=false&childAges=&numberOfGuest=0&missingChildAges=false&travellerType=0&showReviewSubmissionEntry=false&currencyCode=VND&isFreeOccSearch=false&los=1&searchrequestid=193d1d82-9aaf-442b-a677-d1f82cd23eac\n",
      "https://www.agoda.com/vi-vn/huong-sen-hotel/hotel/ho-chi-minh-city-vn.html?finalPriceView=1&isShowMobileAppPrice=false&cid=-1&numberOfBedrooms=&familyMode=false&adults=1&children=0&rooms=1&maxRooms=0&checkIn=2021-06-1&isCalendarCallout=false&childAges=&numberOfGuest=0&missingChildAges=false&travellerType=0&showReviewSubmissionEntry=false&currencyCode=VND&isFreeOccSearch=false&tspTypes=16&los=1&searchrequestid=193d1d82-9aaf-442b-a677-d1f82cd23eac\n",
      "https://www.agoda.com/vi-vn/ramana-saigon-hotel/hotel/ho-chi-minh-city-vn.html?finalPriceView=1&isShowMobileAppPrice=false&cid=-1&numberOfBedrooms=&familyMode=false&adults=1&children=0&rooms=1&maxRooms=0&checkIn=2021-06-1&isCalendarCallout=false&childAges=&numberOfGuest=0&missingChildAges=false&travellerType=0&showReviewSubmissionEntry=false&currencyCode=VND&isFreeOccSearch=false&los=1&searchrequestid=193d1d82-9aaf-442b-a677-d1f82cd23eac\n",
      "https://www.agoda.com/vi-vn/winsuites-saigon-hotel/hotel/ho-chi-minh-city-vn.html?finalPriceView=1&isShowMobileAppPrice=false&cid=-1&numberOfBedrooms=&familyMode=false&adults=1&children=0&rooms=1&maxRooms=0&checkIn=2021-06-1&isCalendarCallout=false&childAges=&numberOfGuest=0&missingChildAges=false&travellerType=0&showReviewSubmissionEntry=false&currencyCode=VND&isFreeOccSearch=false&tspTypes=2,16&los=1&searchrequestid=193d1d82-9aaf-442b-a677-d1f82cd23eac\n",
      "https://www.agoda.com/vi-vn/aquari-hotel/hotel/ho-chi-minh-city-vn.html?finalPriceView=1&isShowMobileAppPrice=false&cid=-1&numberOfBedrooms=&familyMode=false&adults=1&children=0&rooms=1&maxRooms=0&checkIn=2021-06-1&isCalendarCallout=false&childAges=&numberOfGuest=0&missingChildAges=false&travellerType=0&showReviewSubmissionEntry=false&currencyCode=VND&isFreeOccSearch=false&tspTypes=16,-1&los=1&searchrequestid=193d1d82-9aaf-442b-a677-d1f82cd23eac\n",
      "https://www.agoda.com/vi-vn/d1mension-residences/hotel/ho-chi-minh-city-vn.html?finalPriceView=1&isShowMobileAppPrice=false&cid=-1&numberOfBedrooms=&familyMode=false&adults=1&children=0&rooms=1&maxRooms=0&checkIn=2021-06-1&isCalendarCallout=false&childAges=&numberOfGuest=0&missingChildAges=false&travellerType=0&showReviewSubmissionEntry=false&currencyCode=VND&isFreeOccSearch=false&tspTypes=16&los=1&searchrequestid=193d1d82-9aaf-442b-a677-d1f82cd23eac\n",
      "https://www.agoda.com/vi-vn/ha-noi-hotel-saigon/hotel/ho-chi-minh-city-vn.html?finalPriceView=1&isShowMobileAppPrice=false&cid=-1&numberOfBedrooms=&familyMode=false&adults=1&children=0&rooms=1&maxRooms=0&checkIn=2021-06-1&isCalendarCallout=false&childAges=&numberOfGuest=0&missingChildAges=false&travellerType=0&showReviewSubmissionEntry=false&currencyCode=VND&isFreeOccSearch=false&los=1&searchrequestid=193d1d82-9aaf-442b-a677-d1f82cd23eac\n",
      "https://www.agoda.com/vi-vn/vilion-central-hotel/hotel/ho-chi-minh-city-vn.html?finalPriceView=1&isShowMobileAppPrice=false&cid=-1&numberOfBedrooms=&familyMode=false&adults=1&children=0&rooms=1&maxRooms=0&checkIn=2021-06-1&isCalendarCallout=false&childAges=&numberOfGuest=0&missingChildAges=false&travellerType=0&showReviewSubmissionEntry=false&currencyCode=VND&isFreeOccSearch=false&tspTypes=3,16&los=1&searchrequestid=193d1d82-9aaf-442b-a677-d1f82cd23eac\n",
      "\n",
      "https://www.agoda.com/vi-vn/la-regatta-boutique-residences/hotel/ho-chi-minh-city-vn.html?finalPriceView=1&isShowMobileAppPrice=false&cid=-1&numberOfBedrooms=&familyMode=false&adults=1&children=0&rooms=1&maxRooms=0&checkIn=2021-06-1&isCalendarCallout=false&childAges=&numberOfGuest=0&missingChildAges=false&travellerType=0&showReviewSubmissionEntry=false&currencyCode=VND&isFreeOccSearch=false&tspTypes=9,-1&los=1&searchrequestid=193d1d82-9aaf-442b-a677-d1f82cd23eac\n",
      "https://www.agoda.com/vi-vn/innside-by-melia-saigon-central/hotel/ho-chi-minh-city-vn.html?finalPriceView=1&isShowMobileAppPrice=false&cid=-1&numberOfBedrooms=&familyMode=false&adults=1&children=0&rooms=1&maxRooms=0&checkIn=2021-06-1&isCalendarCallout=false&childAges=&numberOfGuest=0&missingChildAges=false&travellerType=0&showReviewSubmissionEntry=false&currencyCode=VND&isFreeOccSearch=false&tspTypes=16&los=1&searchrequestid=193d1d82-9aaf-442b-a677-d1f82cd23eac\n",
      "https://www.agoda.com/vi-vn/uptown-hotel_2/hotel/ho-chi-minh-city-vn.html?finalPriceView=1&isShowMobileAppPrice=false&cid=-1&numberOfBedrooms=&familyMode=false&adults=1&children=0&rooms=1&maxRooms=0&checkIn=2021-06-1&isCalendarCallout=false&childAges=&numberOfGuest=0&missingChildAges=false&travellerType=0&showReviewSubmissionEntry=false&currencyCode=VND&isFreeOccSearch=false&tspTypes=1,16&los=1&searchrequestid=193d1d82-9aaf-442b-a677-d1f82cd23eac\n",
      "https://www.agoda.com/vi-vn/sach-hotel-h18927528/hotel/ho-chi-minh-city-vn.html?finalPriceView=1&isShowMobileAppPrice=false&cid=-1&numberOfBedrooms=&familyMode=false&adults=1&children=0&rooms=1&maxRooms=0&checkIn=2021-06-1&isCalendarCallout=false&childAges=&numberOfGuest=0&missingChildAges=false&travellerType=0&showReviewSubmissionEntry=false&currencyCode=VND&isFreeOccSearch=false&los=1&searchrequestid=193d1d82-9aaf-442b-a677-d1f82cd23eac\n",
      "https://www.agoda.com/vi-vn/orchids-saigon-hotel/hotel/ho-chi-minh-city-vn.html?finalPriceView=1&isShowMobileAppPrice=false&cid=-1&numberOfBedrooms=&familyMode=false&adults=1&children=0&rooms=1&maxRooms=0&checkIn=2021-06-1&isCalendarCallout=false&childAges=&numberOfGuest=0&missingChildAges=false&travellerType=0&showReviewSubmissionEntry=false&currencyCode=VND&isFreeOccSearch=false&tspTypes=16&los=1&searchrequestid=193d1d82-9aaf-442b-a677-d1f82cd23eac\n",
      "https://www.agoda.com/vi-vn/liberty-central-saigon-riverside-hotel/hotel/ho-chi-minh-city-vn.html?finalPriceView=1&isShowMobileAppPrice=false&cid=-1&numberOfBedrooms=&familyMode=false&adults=1&children=0&rooms=1&maxRooms=0&checkIn=2021-06-1&isCalendarCallout=false&childAges=&numberOfGuest=0&missingChildAges=false&travellerType=0&showReviewSubmissionEntry=false&currencyCode=VND&isFreeOccSearch=false&tspTypes=16&los=1&searchrequestid=193d1d82-9aaf-442b-a677-d1f82cd23eac\n",
      "https://www.agoda.com/vi-vn/cozrum-homes-aurora-house/hotel/ho-chi-minh-city-vn.html?finalPriceView=1&isShowMobileAppPrice=false&cid=-1&numberOfBedrooms=&familyMode=false&adults=1&children=0&rooms=1&maxRooms=0&checkIn=2021-06-1&isCalendarCallout=false&childAges=&numberOfGuest=0&missingChildAges=false&travellerType=0&showReviewSubmissionEntry=false&currencyCode=VND&isFreeOccSearch=false&tspTypes=9,-1&los=1&searchrequestid=193d1d82-9aaf-442b-a677-d1f82cd23eac\n",
      "https://www.agoda.com/vi-vn/reddoorz-plus-near-ba-chieu-local-market/hotel/ho-chi-minh-city-vn.html?finalPriceView=1&isShowMobileAppPrice=false&cid=-1&numberOfBedrooms=&familyMode=false&adults=1&children=0&rooms=1&maxRooms=0&checkIn=2021-06-1&isCalendarCallout=false&childAges=&numberOfGuest=0&missingChildAges=false&travellerType=0&showReviewSubmissionEntry=false&currencyCode=VND&isFreeOccSearch=false&tspTypes=9&los=1&searchrequestid=193d1d82-9aaf-442b-a677-d1f82cd23eac\n",
      "https://www.agoda.com/vi-vn/lotus-central-hotel-saigon/hotel/ho-chi-minh-city-vn.html?finalPriceView=1&isShowMobileAppPrice=false&cid=-1&numberOfBedrooms=&familyMode=false&adults=1&children=0&rooms=1&maxRooms=0&checkIn=2021-06-1&isCalendarCallout=false&childAges=&numberOfGuest=0&missingChildAges=false&travellerType=0&showReviewSubmissionEntry=false&currencyCode=VND&isFreeOccSearch=false&tspTypes=2,16,-1&los=1&searchrequestid=193d1d82-9aaf-442b-a677-d1f82cd23eac\n",
      "https://www.agoda.com/vi-vn/h79-hotel/hotel/ho-chi-minh-city-vn.html?finalPriceView=1&isShowMobileAppPrice=false&cid=-1&numberOfBedrooms=&familyMode=false&adults=1&children=0&rooms=1&maxRooms=0&checkIn=2021-06-1&isCalendarCallout=false&childAges=&numberOfGuest=0&missingChildAges=false&travellerType=0&showReviewSubmissionEntry=false&currencyCode=VND&isFreeOccSearch=false&tspTypes=9&los=1&searchrequestid=193d1d82-9aaf-442b-a677-d1f82cd23eac\n",
      "https://www.agoda.com/vi-vn/sen-viet-hotel/hotel/ho-chi-minh-city-vn.html?finalPriceView=1&isShowMobileAppPrice=false&cid=-1&numberOfBedrooms=&familyMode=false&adults=1&children=0&rooms=1&maxRooms=0&checkIn=2021-06-1&isCalendarCallout=false&childAges=&numberOfGuest=0&missingChildAges=false&travellerType=0&showReviewSubmissionEntry=false&currencyCode=VND&isFreeOccSearch=false&los=1&searchrequestid=193d1d82-9aaf-442b-a677-d1f82cd23eac\n",
      "https://www.agoda.com/vi-vn/cicilia-saigon-hotel-spa_4/hotel/ho-chi-minh-city-vn.html?finalPriceView=1&isShowMobileAppPrice=false&cid=-1&numberOfBedrooms=&familyMode=false&adults=1&children=0&rooms=1&maxRooms=0&checkIn=2021-06-1&isCalendarCallout=false&childAges=&numberOfGuest=0&missingChildAges=false&travellerType=0&showReviewSubmissionEntry=false&currencyCode=VND&isFreeOccSearch=false&tspTypes=9,16&los=1&searchrequestid=193d1d82-9aaf-442b-a677-d1f82cd23eac\n",
      "https://www.agoda.com/vi-vn/hamonica-thao-dien-apartment/hotel/all/ho-chi-minh-city-vn.html?finalPriceView=1&isShowMobileAppPrice=false&cid=-1&numberOfBedrooms=&familyMode=false&adults=1&children=0&rooms=1&maxRooms=0&checkIn=2021-06-1&isCalendarCallout=false&childAges=&numberOfGuest=0&missingChildAges=false&travellerType=0&showReviewSubmissionEntry=false&currencyCode=VND&isFreeOccSearch=false&los=1&searchrequestid=193d1d82-9aaf-442b-a677-d1f82cd23eac\n",
      "https://www.agoda.com/vi-vn/new-world-saigon-hotel/hotel/ho-chi-minh-city-vn.html?finalPriceView=1&isShowMobileAppPrice=false&cid=-1&numberOfBedrooms=&familyMode=false&adults=1&children=0&rooms=1&maxRooms=0&checkIn=2021-06-1&isCalendarCallout=false&childAges=&numberOfGuest=0&missingChildAges=false&travellerType=0&showReviewSubmissionEntry=false&currencyCode=VND&isFreeOccSearch=false&tspTypes=16&los=1&searchrequestid=193d1d82-9aaf-442b-a677-d1f82cd23eac\n",
      "https://www.agoda.com/vi-vn/amanaki-saigon-boutique-hotel/hotel/ho-chi-minh-city-vn.html?finalPriceView=1&isShowMobileAppPrice=false&cid=-1&numberOfBedrooms=&familyMode=false&adults=1&children=0&rooms=1&maxRooms=0&checkIn=2021-06-1&isCalendarCallout=false&childAges=&numberOfGuest=0&missingChildAges=false&travellerType=0&showReviewSubmissionEntry=false&currencyCode=VND&isFreeOccSearch=false&tspTypes=16&los=1&searchrequestid=193d1d82-9aaf-442b-a677-d1f82cd23eac\n"
     ]
    }
   ],
   "source": [
    "hotel_elements = driver.find_elements_by_css_selector(\n",
    "    'li.PropertyCard.PropertyCardItem[data-selenium=\"hotel-item\"]')\n",
    "print(len(hotel_elements))\n",
    "for hotel_element in hotel_elements:\n",
    "    try:\n",
    "        hotel_link = hotel_element.find_element_by_css_selector(\n",
    "            'a.PropertyCard__Link').get_attribute('href')\n",
    "        price = hotel_element.find_element_by_css_selector(\n",
    "            'span.PropertyCardPrice__Value').text\n",
    "    except Exception:\n",
    "        hotel_link = ''\n",
    "        price = -1\n",
    "    print(hotel_link)"
   ]
  },
  {
   "cell_type": "code",
   "execution_count": 6,
   "id": "65bb4af9",
   "metadata": {
    "ExecuteTime": {
     "end_time": "2021-05-23T14:14:05.486175Z",
     "start_time": "2021-05-23T14:13:18.204535Z"
    }
   },
   "outputs": [
    {
     "ename": "KeyboardInterrupt",
     "evalue": "",
     "output_type": "error",
     "traceback": [
      "\u001b[0;31m---------------------------------------------------------------------------\u001b[0m",
      "\u001b[0;31mKeyboardInterrupt\u001b[0m                         Traceback (most recent call last)",
      "\u001b[0;32m<ipython-input-6-741d4cec6245>\u001b[0m in \u001b[0;36m<module>\u001b[0;34m\u001b[0m\n\u001b[1;32m      3\u001b[0m     \u001b[0mdriver\u001b[0m\u001b[0;34m.\u001b[0m\u001b[0mexecute_script\u001b[0m\u001b[0;34m(\u001b[0m\u001b[0;34m\"window.scrollTo(0, \"\u001b[0m\u001b[0;34m+\u001b[0m\u001b[0mstr\u001b[0m\u001b[0;34m(\u001b[0m\u001b[0my\u001b[0m\u001b[0;34m)\u001b[0m\u001b[0;34m+\u001b[0m\u001b[0;34m\")\"\u001b[0m\u001b[0;34m)\u001b[0m\u001b[0;34m\u001b[0m\u001b[0;34m\u001b[0m\u001b[0m\n\u001b[1;32m      4\u001b[0m     \u001b[0my\u001b[0m \u001b[0;34m+=\u001b[0m \u001b[0;36m1000\u001b[0m\u001b[0;34m\u001b[0m\u001b[0;34m\u001b[0m\u001b[0m\n\u001b[0;32m----> 5\u001b[0;31m     \u001b[0mtime\u001b[0m\u001b[0;34m.\u001b[0m\u001b[0msleep\u001b[0m\u001b[0;34m(\u001b[0m\u001b[0;36m1\u001b[0m\u001b[0;34m)\u001b[0m\u001b[0;34m\u001b[0m\u001b[0;34m\u001b[0m\u001b[0m\n\u001b[0m",
      "\u001b[0;31mKeyboardInterrupt\u001b[0m: "
     ]
    }
   ],
   "source": [
    "y = 1000\n",
    "for timer in range(0, 50):\n",
    "    driver.execute_script(\"window.scrollTo(0, \"+str(y)+\")\")\n",
    "    y += 1000\n",
    "    #time.sleep(1)"
   ]
  }
 ],
 "metadata": {
  "kernelspec": {
   "display_name": "Python 3",
   "language": "python",
   "name": "python3"
  },
  "language_info": {
   "codemirror_mode": {
    "name": "ipython",
    "version": 3
   },
   "file_extension": ".py",
   "mimetype": "text/x-python",
   "name": "python",
   "nbconvert_exporter": "python",
   "pygments_lexer": "ipython3",
   "version": "3.8.5"
  },
  "toc": {
   "base_numbering": 1,
   "nav_menu": {},
   "number_sections": true,
   "sideBar": true,
   "skip_h1_title": false,
   "title_cell": "Table of Contents",
   "title_sidebar": "Contents",
   "toc_cell": false,
   "toc_position": {},
   "toc_section_display": true,
   "toc_window_display": false
  }
 },
 "nbformat": 4,
 "nbformat_minor": 5
}
